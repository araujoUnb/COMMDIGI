{
 "cells": [
  {
   "cell_type": "markdown",
   "metadata": {},
   "source": [
    "# Canal de Comunicação Digital"
   ]
  },
  {
   "cell_type": "code",
   "execution_count": 1,
   "metadata": {},
   "outputs": [],
   "source": [
    "from numpy import sum,isrealobj,sqrt \n",
    "from numpy.random import standard_normal"
   ]
  },
  {
   "cell_type": "code",
   "execution_count": 2,
   "metadata": {},
   "outputs": [],
   "source": [
    "def awgn(s,SNRdB,L=1):\n",
    "    \"\"\" AWGN channel \n",
    "\n",
    "    Add AWGN noise to input signal. The function adds AWGN noise vector to \n",
    "    signal 's' to generate a resulting signal vector 'r' of specified SNR in dB. \n",
    "    It also returns the noise vector 'n' that is added to the signal 's' \n",
    "    and the power spectral density N0 of noise added\n",
    "    \n",
    "    Parameters:\n",
    "\n",
    "        s : input/transmitted signal vector \n",
    "        SNRdB : desired signal to noise ratio (expressed in dB) for the received signal \n",
    "        L : oversampling factor (applicable for waveform simulation) default L = 1.\n",
    "\n",
    "        Returns: \n",
    "        r : received signal vector (r=s+n)\n",
    "    \"\"\"\n",
    "\n",
    "    gamma = 10**(SNRdB/10) #SNR to linear scale\n",
    "\n",
    "    if s.ndim==1:# if s is single dimensional vector \n",
    "        P=L*sum(abs(s)**2)/len(s) #Actual power in the vector \n",
    "    else: # multi-dimensional signals like MFSK \n",
    "        P=L*sum(sum(abs(s)**2))/len(s) # if s is a matrix [MxN]\n",
    "\n",
    "    N0=P/gamma # Find the noise spectral density\n",
    "\n",
    "    if isrealobj(s):# check if input is real/complex object type \n",
    "        n = sqrt(N0/2)*standard_normal(s.shape) # computed noise\n",
    "    else:\n",
    "        n = sqrt(N0/2)*(standard_normal(s.shape)+1j*standard_normal(s.shape))\n",
    "    \n",
    "    r = s + n # received signal\n",
    "\n",
    "    return r"
   ]
  },
  {
   "cell_type": "code",
   "execution_count": null,
   "metadata": {},
   "outputs": [],
   "source": []
  }
 ],
 "metadata": {
  "kernelspec": {
   "display_name": "Python 3.9.12 ('linkSimul')",
   "language": "python",
   "name": "python3"
  },
  "language_info": {
   "codemirror_mode": {
    "name": "ipython",
    "version": 3
   },
   "file_extension": ".py",
   "mimetype": "text/x-python",
   "name": "python",
   "nbconvert_exporter": "python",
   "pygments_lexer": "ipython3",
   "version": "3.9.12"
  },
  "orig_nbformat": 4,
  "vscode": {
   "interpreter": {
    "hash": "f11e44294ef36fddc0818d2c44720dbd9001fe6986863e093359c8cb10ee009c"
   }
  }
 },
 "nbformat": 4,
 "nbformat_minor": 2
}
