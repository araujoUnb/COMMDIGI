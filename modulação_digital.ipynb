{
 "cells": [
  {
   "cell_type": "markdown",
   "metadata": {},
   "source": [
    "<img src=\"Figs/fga.png\" alt=\"isolated\"/>"
   ]
  },
  {
   "cell_type": "code",
   "execution_count": 1,
   "metadata": {},
   "outputs": [],
   "source": [
    "import numpy as np\n",
    "import matplotlib.pyplot as plt\n",
    "from ipywidgets import widgets"
   ]
  },
  {
   "cell_type": "code",
   "execution_count": 2,
   "metadata": {},
   "outputs": [],
   "source": [
    "def rect_pulse(A,fs,T): \n",
    "    r\"\"\" Generate isolated rectangular pulse with the following parameters\n",
    "    Parameters: \n",
    "    A : amplitude of the rectangular pulse \n",
    "    fs : sampling frequency in Hz \n",
    "    T : duration of the pulse in seconds \n",
    "    Returns: (t,g) : \n",
    "    time base (t) and the signal g(t) as tuple \n",
    "    Example:\n",
    "     A = 1;\n",
    "     fs=500;T = 0.2; \n",
    "     (t,g) = rect_pulse(A,fs,T) \"\"\" \n",
    "    \n",
    "    t = np.arange(-0.5,0.5,1/fs) # time base \n",
    "    rect = (t >-T/2) * (t<T/2) + 0.5*(t==T/2) + 0.5*(t==-T/2)\n",
    "    g = A*rect \n",
    "    return (t,g)"
   ]
  },
  {
   "cell_type": "markdown",
   "metadata": {},
   "source": [
    "<h1 style=\"text-align: center;\"> Modulações Digitais </h1>\n",
    "\n",
    "<h3 style=\"text-align: center;\">Disciplina: Comunicações Digitais para Engenaharia</h3>\n",
    "\n",
    "\n",
    "<p style=\"text-align: center;\">Prof. Daniel C. Araújo</p>"
   ]
  },
  {
   "cell_type": "markdown",
   "metadata": {},
   "source": [
    "## Conteúdo\n",
    "\n",
    "1. [Introdução](#Intro)\n",
    "2. [Modulações sem Memória](#mod_sem_mem)"
   ]
  },
  {
   "cell_type": "markdown",
   "metadata": {},
   "source": [
    " # Introdução  <a name =\"intro\"></a>\n",
    "\n"
   ]
  },
  {
   "cell_type": "markdown",
   "metadata": {},
   "source": [
    "## Representação de sinais digitais\n",
    "\n",
    "* Modulação sem memória\n",
    "    * Conjunto de k bits são mapeados para um símbolo\n",
    "\n",
    "* Modulação com memória\n",
    "    * Conjunto de k bits e os anteriores $(L-1)k$ bits.\n",
    "    * A saída depende das sequências anteriores e a atual\n",
    "\n",
    "<img src=\"Figs/mod_digi/digi_mod.png\" alt=\"isolated\" />\n"
   ]
  },
  {
   "cell_type": "markdown",
   "metadata": {},
   "source": [
    "## Transmissão de Bits\n",
    "\n",
    "* Tempo de Símbolo e Tempo de bit\n",
    "\n",
    "$$\n",
    "T_b = \\frac{T_s}{k} = \\frac{T_s}{\\log_2M}\n",
    "$$\n",
    "\n",
    "* Taxa de bits e taxa de símbolo\n",
    "\n",
    "$$\n",
    "R_b = kR_s = R_s \\log_2M\n",
    "$$\n",
    "\n",
    "* Energia do sinal e Energia de bits\n",
    "\n",
    "$$\n",
    "E_{avg} = \\sum _{m=1}^{M} p_m E_m \n",
    "$$\n",
    "em que, $p_m$ são as probabilidades dos símbolos\n",
    "\n",
    "Se os bits são equiprováveis então:\n",
    "\n",
    "$$\n",
    "E_{b} = \\frac{E_{avg}}{\\log_2M}  \n",
    "$$"
   ]
  },
  {
   "cell_type": "code",
   "execution_count": 3,
   "metadata": {},
   "outputs": [
    {
     "data": {
      "image/png": "[encoded data removed]",
      "text/plain": [
       "<Figure size 432x288 with 1 Axes>"
      ]
     },
     "metadata": {
      "needs_background": "light"
     },
     "output_type": "display_data"
    },
    {
     "name": "stdout",
     "output_type": "stream",
     "text": [
      "Tempo de bit 0.2 s\n",
      "Taxa de bits 5.0 Hz\n"
     ]
    }
   ],
   "source": [
    "A = 1\n",
    "fs=500\n",
    "Tb = 0.2 \n",
    "(t,g) = rect_pulse(A,fs,Tb) \n",
    "\n",
    "plt.plot(t,g)\n",
    "plt.xlabel(\"tempo (s)\")\n",
    "plt.ylabel(\"Amplitude\")\n",
    "plt.grid()\n",
    "plt.show()\n",
    "\n",
    "print(\"Tempo de bit\", Tb, \"s\")\n",
    "print(\"Taxa de bits\", 1/Tb, \"Hz\")"
   ]
  },
  {
   "cell_type": "markdown",
   "metadata": {},
   "source": [
    "# Modulações sem Memória  <a name=\"mod_sem_mem\"></a>"
   ]
  },
  {
   "cell_type": "markdown",
   "metadata": {},
   "source": [
    "## Modulação PAM\n",
    "\n",
    "> Definição: Pulse Modulation Amplitude (PAM/ASK)\n",
    "\n",
    "* forma de onda\n",
    "\n",
    "   $$\n",
    "    s_m(t) = A_m p(t), \\,\\  0 \\leq m \\leq M - 1\n",
    "   $$\n",
    "\n",
    "* Amplitudes \n",
    "\n",
    "  $$\n",
    "  A_m = 2m + 1 - M \n",
    "  $$"
   ]
  },
  {
   "cell_type": "code",
   "execution_count": 4,
   "metadata": {},
   "outputs": [
    {
     "data": {
      "image/png": "[encoded data removed]",
      "text/plain": [
       "<Figure size 432x288 with 1 Axes>"
      ]
     },
     "metadata": {
      "needs_background": "light"
     },
     "output_type": "display_data"
    },
    {
     "name": "stdout",
     "output_type": "stream",
     "text": [
      "Tempo de bit 0.2 s\n",
      "Taxa de bits 5.0 Hz\n"
     ]
    }
   ],
   "source": [
    "def mod_pam(integer, M,fs,Tb):\n",
    "\n",
    "    A_m = 2*integer  - M + 1\n",
    "\n",
    "    return rect_pulse(A_m,fs,Tb)\n",
    "\n",
    "A = 1\n",
    "fs=500\n",
    "Tb = 0.2 \n",
    "M = 4\n",
    "integer = 1    # integer < M\n",
    "(t,g) = mod_pam(integer, M,fs,Tb) \n",
    "\n",
    "plt.plot(t,g)\n",
    "plt.xlabel(\"tempo (s)\")\n",
    "plt.ylabel(\"Amplitude\")\n",
    "plt.grid()\n",
    "plt.show()\n",
    "\n",
    "print(\"Tempo de bit\", Tb, \"s\")\n",
    "print(\"Taxa de bits\", 1/Tb, \"Hz\")"
   ]
  },
  {
   "cell_type": "markdown",
   "metadata": {},
   "source": [
    "## Energia do símbolo\n",
    "\n",
    "$$\n",
    "\\begin{align*}\n",
    "    E_s   & = \\int _{-\\infty}^{\\infty} |s_m(t)|^2 dt \\\\\n",
    "         & = \\int _{-\\infty}^{\\infty} A^2_m p(t)^2 dt \\\\\n",
    "         &  = A^2_m E_p \n",
    "\\end{align*}\n",
    "$$"
   ]
  },
  {
   "cell_type": "markdown",
   "metadata": {},
   "source": [
    "## Energia média da constelação\n",
    "$$\n",
    "\\begin{align*}\n",
    "    E_{avg}   & = \\frac{E_p}{M} \\sum _{m=1}^{M}A^2_m \\\\\n",
    "              & = \\frac{2E_p}{M} \\left(1 + 3^2 + \\ldots + (M-1)^2 \\right) \\\\\n",
    "              & = \\frac{2E_p}{M} \\frac{M(M^2-1)}{6} \\\\\n",
    "              & = \\frac{E_p(M^2-1)}{3}\n",
    "\\end{align*}  \n",
    "$$\n",
    "Portanto a energia média de bits\n",
    "\n",
    "$$\n",
    "E_{b} = \\frac{E_{avg}}{\\log_2M}  = \\frac{E_p(M^2-1)}{3\\log_2M}\n",
    "$$"
   ]
  },
  {
   "cell_type": "markdown",
   "metadata": {},
   "source": [
    "## Representação em Banda Básica e Banda Passante\n",
    "\n",
    "Assumindo que a representação de banda-básica seja \n",
    "\n",
    "$$\n",
    "s_{ml} = A_m p(t)\n",
    "$$\n",
    "em que $p(t)$ é real\n",
    "\n",
    "então sua representação de banda-passante é\n",
    "\n",
    "$$\n",
    "\\begin{align*}\n",
    "s_m(t) &= A_m p(t) \\cos (2\\pi f_c t) \\\\\n",
    "       &= A_m g(t)\n",
    "\\end{align*}  \n",
    "$$\n",
    "\n",
    "* A energia média de banda-passante será metade da energia de banda-básica:\n",
    "\n",
    "$$\n",
    "E_{b} = \\frac{E_p(M^2-1)}{6\\log_2M}\n",
    "$$"
   ]
  },
  {
   "cell_type": "markdown",
   "metadata": {},
   "source": [
    "## Símbolo PAM\n",
    "\n",
    "* A representação de banda-básica pode ser reescrita como\n",
    "\n",
    "$$\n",
    "s_ml(t) =  A_m \\sqrt{E_p} \\phi(t),\n",
    "$$\n",
    "em que $\\phi (t) = \\frac{p(t)}{\\sqrt{E_p}}$.\n",
    "\n",
    "* Símbolos PAM\n",
    "\n",
    " $$\n",
    " s_m  =  A_m \\sqrt{E_p} , \\,\\ A_m =\\{\\pm 1, \\pm 3, \\ldots , \\pm (M - 1)\\}\n",
    " $$\n",
    "\n"
   ]
  },
  {
   "cell_type": "code",
   "execution_count": 5,
   "metadata": {},
   "outputs": [
    {
     "data": {
      "application/vnd.jupyter.widget-view+json": {
       "model_id": "cb5b8a036a4a4db6acfbedc03c708b1e",
       "version_major": 2,
       "version_minor": 0
      },
      "text/plain": [
       "Output()"
      ]
     },
     "metadata": {},
     "output_type": "display_data"
    },
    {
     "data": {
      "application/vnd.jupyter.widget-view+json": {
       "model_id": "e9c5770c089f41deae2f07281aab7f97",
       "version_major": 2,
       "version_minor": 0
      },
      "text/plain": [
       "HBox(children=(Dropdown(description='Ordem da modulação', options=(2, 4, 8, 16, 32), value=2),))"
      ]
     },
     "metadata": {},
     "output_type": "display_data"
    }
   ],
   "source": [
    "def plot_pam_scatter(M,Ep=1):\n",
    "\n",
    "\n",
    "    m = np.arange(0,M)\n",
    "    \n",
    "\n",
    "    smr = (2*m - M + 1) * np.sqrt(Ep)\n",
    "    smi = np.zeros(len(smr))\n",
    "\n",
    "    plt.plot(smr,smi,'o')\n",
    "    plt.xlabel('Componente em fase')\n",
    "    plt.ylabel('Componente em quadratura')\n",
    "    plt.xlim([np.min(smr) - np.sqrt(Ep),np.max(smr) + np.sqrt(Ep)])\n",
    "    plt.grid()\n",
    "    plt.show()\n",
    "\n",
    "M = widgets.Dropdown(\n",
    "    options=[2,4,8,16,32],\n",
    "    value=2,\n",
    "    description='Ordem da modulação',\n",
    "    disabled=False,\n",
    ")\n",
    "\n",
    "ui = widgets.HBox([M])\n",
    "\n",
    "out = widgets.interactive_output(plot_pam_scatter, {'M': M})\n",
    "\n",
    "display(out, ui)\n"
   ]
  },
  {
   "cell_type": "markdown",
   "metadata": {},
   "source": [
    "## Distância Entre Símbolos da Modulação AM\n",
    "\n",
    "* Considere a distância euclidiana entre dois pontos \n",
    "\n",
    "$$\n",
    "\\begin{align*}\n",
    "d_{nm} & = \\sqrt{|s_m - s_n|^2} \\\\\n",
    "& = |A_m - A_n|\\sqrt{E_p} \\\\\n",
    "\\end{align*}\n",
    "$$\n",
    "\n",
    "Portanto a distância mínima entre dois símbolos será:\n",
    "\n",
    "$$\n",
    "\\begin{align*}\n",
    "d_{min} & = 2\\sqrt{E_p} \\\\\n",
    "& = \\sqrt{2E_g} \\\\ \n",
    "& = \\sqrt{\\frac{12\\log_2M}{M^2-1}E_b} \n",
    "\\end{align*}\n",
    "$$"
   ]
  },
  {
   "cell_type": "code",
   "execution_count": 6,
   "metadata": {},
   "outputs": [
    {
     "data": {
      "application/vnd.jupyter.widget-view+json": {
       "model_id": "b053b807e9ac483888968e13af8301c6",
       "version_major": 2,
       "version_minor": 0
      },
      "text/plain": [
       "Output()"
      ]
     },
     "metadata": {},
     "output_type": "display_data"
    },
    {
     "data": {
      "application/vnd.jupyter.widget-view+json": {
       "model_id": "0e800613313a43638aae8c21fb041308",
       "version_major": 2,
       "version_minor": 0
      },
      "text/plain": [
       "HBox(children=(FloatSlider(value=0.1, description='Energia de bit', max=2.0, min=0.1, step=0.01),))"
      ]
     },
     "metadata": {},
     "output_type": "display_data"
    }
   ],
   "source": [
    "def pam_dist(M,Eb):\n",
    "    return np.sqrt(12*np.log2(M)/(M**2 -1)*Eb)\n",
    "def plot_dist_min(Eb):\n",
    "    M = np.array([2,4,8,16,32])\n",
    "    d = pam_dist(M,Eb)\n",
    "\n",
    "    plt.stem(M,d)\n",
    "    plt.xlabel('Ordem da modulação')\n",
    "    plt.ylabel('Distância entre símbolos')\n",
    "    plt.grid()\n",
    "    plt.ylim([0.01,2])\n",
    "    plt.show()\n",
    "\n",
    "\n",
    "eb = widgets.FloatSlider(min=0.1,max=2,step=0.01, description=\"Energia de bit\")\n",
    "ui = widgets.HBox([eb])\n",
    "\n",
    "out = widgets.interactive_output(plot_dist_min, {'Eb': eb})\n",
    "\n",
    "display(out, ui)"
   ]
  },
  {
   "cell_type": "markdown",
   "metadata": {},
   "source": [
    "## Exercício\n",
    "\n",
    "* Programar um modulador M-PAM \n",
    "    * Obter a scatterplot na saída do modulador\n",
    "    * Sinal de banda-básica\n",
    "        * Considere o pulso retangular\n",
    "    * Sinal de banda–passante\n"
   ]
  },
  {
   "cell_type": "markdown",
   "metadata": {},
   "source": [
    "## Modulação PSK  \n",
    "\n",
    "> Definição: *Phase Shift Keying* (PSK)\n",
    "\n",
    "$$\n",
    "\\begin{align*}\n",
    "s_m(t)& = Re\\left[ g(t) e^{\\jmath \\frac{2\\pi (m-1)}{M}} e^{\\jmath 2\\pi f_c t}\\right] \\\\\n",
    "      & = g(t) \\cos \\left[ 2\\pi f_c t +  \\frac{2\\pi (m-1)}{M} \\right] \\\\\n",
    "      & =  g(t) \\cos \\left[  \\frac{2\\pi (m-1)}{M} \\right] \\cos \\left[ 2\\pi f_c t \\right]  - g(t) \\sin \\left[  \\frac{2\\pi (m-1)}{M} \\right] \\sin \\left[ 2\\pi f_c t \\right] \n",
    "\\end{align*}\n",
    "$$\n",
    "\n",
    "> Representação em banda passante:  $$ g(t) \\cos \\left[  \\frac{2\\pi (m-1)}{M} \\right] \\cos \\left[ 2\\pi f_c t \\right]  - g(t) \\sin \\left[  \\frac{2\\pi (m-1)}{M} \\right] \\sin \\left[ 2\\pi f_c t \\right] $$\n",
    "\n",
    "É possível reescrever em função do sinais de base\n",
    "\n",
    "$$ \\sqrt{\\frac{E_g}{2}} \\cos \\left[  \\frac{2\\pi (m-1)}{M} \\right] \\phi_1(t)  + \\sqrt{\\frac{E_g}{2}}\\sin \\left[  \\frac{2\\pi (m-1)}{M} \\right] \\phi_2(t) $$\n",
    "\n",
    "em que \n",
    "$$\n",
    "\\begin{align*}\n",
    "\\phi_1(t) & =  \\sqrt{\\frac{2}{E_g}} g(t)\\cos \\left[ 2\\pi f_c t \\right] \\\\\n",
    "\\phi_2(t) & =  - \\sqrt{\\frac{2}{E_g}} g(t)\\sin \\left[ 2\\pi f_c t \\right] \\\\\n",
    "\\end{align*}\n",
    "$$"
   ]
  },
  {
   "cell_type": "code",
   "execution_count": 7,
   "metadata": {},
   "outputs": [
    {
     "data": {
      "application/vnd.jupyter.widget-view+json": {
       "model_id": "36d9335d01fe4de0b04b979cfd2115b9",
       "version_major": 2,
       "version_minor": 0
      },
      "text/plain": [
       "Output()"
      ]
     },
     "metadata": {},
     "output_type": "display_data"
    },
    {
     "data": {
      "application/vnd.jupyter.widget-view+json": {
       "model_id": "613366fa81114589a3ab4af32c96dc20",
       "version_major": 2,
       "version_minor": 0
      },
      "text/plain": [
       "HBox(children=(Dropdown(description='Ordem da modulação', options=(2, 4, 8, 16, 32), value=2),))"
      ]
     },
     "metadata": {},
     "output_type": "display_data"
    }
   ],
   "source": [
    "def psk_mod(integer,Eg,M):\n",
    "\n",
    "    in_phase   = np.sqrt(Eg/2)*np.cos(2*np.pi*(integer -1 )/M)\n",
    "    quadrature = np.sqrt(Eg/2)*np.sin(2*np.pi*(integer -1 )/M)\n",
    "\n",
    "    return in_phase, quadrature\n",
    "\n",
    "def plot_scatter(M):\n",
    "    \n",
    "    m = np.linspace(0,M-1,M).astype(int)\n",
    "    Eg = 1\n",
    "\n",
    "    simbolo = psk_mod(m,Eg,M)\n",
    "\n",
    "    plt.scatter(simbolo[0],simbolo[1])\n",
    "    plt.xlabel('Componente em fase')\n",
    "    plt.ylabel('Componente em quadratura')\n",
    "    plt.ylim([-Eg,Eg])\n",
    "    plt.grid()\n",
    "    plt.show()\n",
    "\n",
    "M = widgets.Dropdown(\n",
    "    options=[2,4,8,16,32],\n",
    "    value=2,\n",
    "    description='Ordem da modulação',\n",
    "    disabled=False,\n",
    ")\n",
    "\n",
    "ui = widgets.HBox([M])\n",
    "\n",
    "out = widgets.interactive_output(plot_scatter, {'M': M})\n",
    "\n",
    "display(out, ui)\n",
    "\n"
   ]
  },
  {
   "cell_type": "markdown",
   "metadata": {},
   "source": [
    "## Distância entre símbolos \n",
    "\n",
    "> Distância euclidiana entre símbolos\n",
    "\n",
    "$$\n",
    "\\begin{align*}\n",
    "d_{nm} & = \\sqrt{|s_m - s_n|^2} \\\\\n",
    "& = \\sqrt{E_g\\left[1 - \\cos \\left(  \\frac{2\\pi (m-n)}{M} \\right) \\right]} \\\\\n",
    "\\end{align*}\n",
    "$$\n",
    "considerando símbolos adjacentes $|m-n|=1$\n",
    "\n",
    "$$\n",
    "\\begin{align*}\n",
    "d_{nm} & = \\sqrt{E_g\\left[1 - \\cos \\left(  \\frac{2\\pi}{M} \\right) \\right]} \\\\\n",
    "       & = \\sqrt{2 E_g \\sin ^2 \\left(  \\frac{\\pi}{M} \\right) }\n",
    "\\end{align*}\n",
    "$$\n",
    "Considerando a aproximação $\\sin \\left(  \\frac{\\pi}{M} \\right) \\approx \\frac{\\pi}{M}$ \n",
    "\n",
    "$$\n",
    "\\begin{align*}\n",
    "d_{nm} & \\approx \\sqrt{2 E_g  \\left(  \\frac{\\pi}{M} \\right)^2 }        \\\\\n",
    "       & \\approx \\sqrt{4 \\log_2M E_b \\left(  \\frac{\\pi}{M} \\right)^2 }  \\\\\n",
    "       & \\approx 2\\sqrt{  E_b  \\frac{\\log_2M \\pi^2}{M^2} }\n",
    "\\end{align*}\n",
    "$$\n"
   ]
  },
  {
   "cell_type": "code",
   "execution_count": 8,
   "metadata": {},
   "outputs": [
    {
     "data": {
      "application/vnd.jupyter.widget-view+json": {
       "model_id": "8b8fb09b3ab2403c945c237636151fa0",
       "version_major": 2,
       "version_minor": 0
      },
      "text/plain": [
       "Output()"
      ]
     },
     "metadata": {},
     "output_type": "display_data"
    },
    {
     "data": {
      "application/vnd.jupyter.widget-view+json": {
       "model_id": "e8ebdf76f5ff4c538860b131eeae3432",
       "version_major": 2,
       "version_minor": 0
      },
      "text/plain": [
       "HBox(children=(FloatSlider(value=0.1, description='Energia de bit', max=2.0, min=0.1, step=0.01),))"
      ]
     },
     "metadata": {},
     "output_type": "display_data"
    }
   ],
   "source": [
    "def psk_dist(M,Eb):\n",
    "    return 2*np.sqrt(np.log2(M)*np.sin(np.pi/M)**2*Eb)\n",
    "def plot_dist_min(Eb):\n",
    "\n",
    "    M = np.array([2,4,8,16,32,64,128])\n",
    "\n",
    "    d_pam = pam_dist(M,Eb)\n",
    "    d_psk = psk_dist(M,Eb)\n",
    "\n",
    "    plt.plot(M,d_pam,'rx-',label='PAM')\n",
    "    plt.plot(M,d_psk,'bo-',label='PSK')\n",
    "\n",
    "    plt.xlabel('Ordem da modulação')\n",
    "    plt.ylabel('Distância entre símbolos')\n",
    "    plt.legend()\n",
    "    plt.grid()\n",
    "    plt.ylim([0.01,4])\n",
    "    plt.show()\n",
    "\n",
    "\n",
    "eb = widgets.FloatSlider(min=0.1,max=2,step=0.01, description=\"Energia de bit\")\n",
    "ui = widgets.HBox([eb])\n",
    "\n",
    "out = widgets.interactive_output(plot_dist_min, {'Eb': eb})\n",
    "\n",
    "display(out, ui)"
   ]
  },
  {
   "cell_type": "markdown",
   "metadata": {},
   "source": [
    "## Exercício\n",
    "\n"
   ]
  },
  {
   "cell_type": "markdown",
   "metadata": {},
   "source": [
    "## Modualação M-QAM\n",
    "\n",
    "> Definição: *Quadrature Amplitude Modulation* (QAM)\n",
    "\n",
    "$$\n",
    "\\begin{align*}\n",
    "s_m(t)& = Re\\left[(A_{mi} + \\jmath A_{mq}) g(t) e^{\\jmath 2\\pi f_c t}\\right] \\\\\n",
    "      & =  g(t) A_{mi} \\cos \\left[ 2\\pi f_c t \\right]  - g(t) A_{mq} \\sin \\left[ 2\\pi f_c t \\right] \n",
    "\\end{align*}\n",
    "$$\n",
    "\n",
    "Alternativamente, \n",
    "$$\n",
    "\\begin{align*}\n",
    "s_m(t)& = Re\\left[(r_m e^{\\jmath \\theta_m} e^{\\jmath 2\\pi f_c t}\\right] \\\\\n",
    "      & = r_m \\cos \\left[ 2\\pi f_c t + \\theta_m \\right]  \n",
    "\\end{align*}\n",
    "$$\n",
    "em que,\n",
    "$$\n",
    "\\begin{align*}\n",
    "r_m         & =\\sqrt{A^2_{mi} + A^2_{mq} } \\\\\n",
    "\\theta      & = \\tan^{-1}\\left( \\frac{A_{mq}}{A_{mi}}\\right)\n",
    "\\end{align*}\n",
    "$$\n"
   ]
  },
  {
   "cell_type": "markdown",
   "metadata": {},
   "source": [
    "## Símbolo QAM\n",
    "\n",
    "Similarment ao símbolo PSK, tem-se que \n",
    "\n",
    "$$\n",
    "s_m(t) = \\sqrt{\\frac{E_g}{2}}A_{mi}\\phi_1(t) + \\sqrt{\\frac{E_g}{2}}A_{mq}\\phi_w(t) \n",
    "$$\n",
    "\n",
    "O símbolo pode ser representado vetorialmente pelas componentes de banda-básica\n",
    "$$\n",
    "s_m = \\left[\\sqrt{\\frac{E_g}{2}}A_{mi},\\sqrt{\\frac{E_g}{2}}A_{mq}\\right]\n",
    "$$\n",
    "\n",
    "A energia do símbolo pode ser calculada como a norma ao quadrado do vetor $s_m$\n",
    "\n",
    "$$\n",
    "\\begin{align*}\n",
    "E_m &= ||s_m||^2 \\\\\n",
    "    &= \\frac{E_g}{2} \\left(A^2_{mi} + A^2_{mq}\\right)\n",
    "\\end{align*}\n",
    "$$"
   ]
  },
  {
   "cell_type": "markdown",
   "metadata": {},
   "source": [
    "## Distância entre símbolos\n",
    "\n",
    "$$\n",
    "\\begin{align*}\n",
    "d_{nm} & = \\sqrt{|s_m - s_n|^2} \\\\\n",
    "       & = \\sqrt{\\frac{E_g}{2} \\left[ \\left(A_{mi} - A_{ni} \\right)^2 + \\left(A_{mq} - A_{nq} \\right)^2 \\right]} \\\\\n",
    "\\end{align*}\n",
    "$$\n",
    "\n",
    "Considerando que o M-QAM é formado por duas constelações PAM então cada componente obdece a seguinte regra\n",
    "\n",
    "$$\n",
    "A_{m_i} = 2m + 1 - M \n",
    "$$\n",
    "Portanto, para símbolos adjacentes tem-se que \n",
    "\n",
    "$$\n",
    "\\begin{align*}\n",
    "d_{min} & = \\sqrt{\\frac{E_g}{2} \\left[ \\left(2 \\right)^2  \\right]} \\\\\n",
    "        & = \\sqrt{2 E_g } \\\\\n",
    "\\end{align*}\n",
    "$$"
   ]
  },
  {
   "cell_type": "markdown",
   "metadata": {},
   "source": [
    "## Exercício\n",
    "  Demonstre qual a energia média de uma modulação M-QAM formada pela combinação de 2 M-PAM."
   ]
  },
  {
   "cell_type": "markdown",
   "metadata": {},
   "source": [
    "## Comparativo entre as modulações\n",
    "\n",
    "| Esquema | $s_m(t)$ | $s_m$ | $E_{avg}$ | $E_{bavg}$ |$d_{min}$|\n",
    "---|:---:|:---:|:---:|:---:|:---:|\n",
    "Banda básica PAM | $A_m p(t)$ | $A_m \\sqrt{E_p}$ | $\\frac{2(M^2-1)}{3}E_p$ |  $\\frac{2(M^2-1)}{3\\log_2 M}E_p$ | $\\sqrt{\\frac{6\\log_2 M}{(M^2-1)}E_{bavg}}$|\n",
    "Banda passante PAM | $A_m g(t) \\cos (2\\pi f_c t)$ | $A_m \\sqrt{\\frac{E_g}{2}}$ | $\\frac{(M^2-1)}{3}E_g$ |  $\\frac{(M^2-1)}{3\\log_2 M}E_g$ | $\\sqrt{\\frac{6\\log_2 M}{(M^2-1)}E_{bavg}}$|\n",
    "PSK | $g(t) \\cos (2\\pi f_c t + \\frac{2\\pi}{M}(m-1))$ | $\\sqrt{\\frac{E_g}{2}}(\\cos \\left[  \\frac{2\\pi (m-1)}{M} \\right],\\sin \\left[  \\frac{2\\pi (m-1)}{M} \\right])$ |  $\\frac{1}{2}E_g$ |  $\\frac{1}{2\\log_2 M}E_g$ | $2\\sqrt{\\log_2 M \\sin ^2 \\left(  \\frac{\\pi}{M} \\right) E_{bavg}}$|\n",
    "QAM | $ g(t) A_{mi} \\cos \\left[ 2\\pi f_c t \\right]  - g(t) A_{mq} \\sin \\left[ 2\\pi f_c t \\right] $ | $\\sqrt{\\frac{E_g}{2}}(A_{mi},A_{mq})$ |  $\\frac{M-1}{3}E_g$ |  $\\frac{M-1}{3\\log_2 M}E_g$ | $\\sqrt{\\frac{6\\log_2 M}{(M^2-1)}E_{bavg}}$|\n"
   ]
  },
  {
   "cell_type": "markdown",
   "metadata": {},
   "source": [
    "## Exercício \n",
    "\n",
    "Implementar modulador M-QAM\n",
    "  * Obtenha o scatterplot na saída do modulador\n",
    "  * Sinal de banda-básica considerando um pulso formatador retangular\n",
    "  * Sinal de banda-passante"
   ]
  },
  {
   "cell_type": "markdown",
   "metadata": {},
   "source": [
    "## Modulação FSK\n",
    "> Definição : *Frequency shift keying* (FSK)\n",
    "\n",
    "$$\n",
    "\\begin{align*}\n",
    "s_m(t) &= Re\\left[s_{ml}(t)e^{\\jmath 2\\pi f_ct}\\right], \\,\\ 1 \\leq m \\leq M, \\,\\ 0 \\leq t \\leq T \\\\\n",
    "       &= \\frac{2E}{T} \\cos(2\\pi f_c t + 2\\pi m \\Delta f t)\n",
    "\\end{align*}\n",
    "$$\n",
    "\n",
    "em que\n",
    "$$\n",
    "\n",
    "\\begin{align*}\n",
    "s_{ml}(t) &= \\sqrt{\\frac{2E}{T}} e^{\\jmath 2\\pi m \\Delta f t}\n",
    "\\end{align*}\n",
    "$$\n",
    "\n"
   ]
  },
  {
   "cell_type": "code",
   "execution_count": 9,
   "metadata": {},
   "outputs": [
    {
     "data": {
      "application/vnd.jupyter.widget-view+json": {
       "model_id": "44fdcc45447f41a8be3806421c8baa5d",
       "version_major": 2,
       "version_minor": 0
      },
      "text/plain": [
       "Output()"
      ]
     },
     "metadata": {},
     "output_type": "display_data"
    },
    {
     "data": {
      "application/vnd.jupyter.widget-view+json": {
       "model_id": "ca332b6cbb0141d7bbc29f4c8e0afeb2",
       "version_major": 2,
       "version_minor": 0
      },
      "text/plain": [
       "HBox(children=(Dropdown(description='Símbolo', options=(0, 1, 2, 3, 4, 5, 6, 7), value=0),))"
      ]
     },
     "metadata": {},
     "output_type": "display_data"
    }
   ],
   "source": [
    "def fsk_baseband(m,delta_f,T,fs,E=1):\n",
    "\n",
    "    A = np.sqrt(2*E/T)\n",
    "\n",
    "    nSamples = int(fs*T)\n",
    "    t = np.linspace(0,T,nSamples)/fs\n",
    "    phase = 2*np.pi*m*delta_f*t\n",
    "\n",
    "    return  A*np.exp(1j*phase), t\n",
    "\n",
    "def plot_fsk_baseband(m,M=8,Delta_f=10):\n",
    "    \n",
    "    fs      = 2*M*Delta_f\n",
    "    T       = 1000/fs\n",
    "    sml, t = fsk_baseband(m,Delta_f,T,fs)\n",
    "\n",
    "    plt.plot(t, np.real(sml),'r--',label=\"Componente em fase\")\n",
    "    plt.plot(t, np.imag(sml),'b',label=\"Componente em Quadratura\")\n",
    "\n",
    "    plt.xlabel('tempo (s)')\n",
    "    plt.ylabel('Amplitude')\n",
    "    plt.grid()\n",
    "    plt.legend()\n",
    "    plt.show()\n",
    "M=8\n",
    "\n",
    "m = widgets.Dropdown(\n",
    "    options=list(np.linspace(0,M-1,M).astype(int)),\n",
    "    value=0,\n",
    "    description='Símbolo',\n",
    "    disabled=False,\n",
    ")\n",
    "\n",
    "ui = widgets.HBox([m])\n",
    "\n",
    "out = widgets.interactive_output(plot_fsk_baseband, {'m': m})\n",
    "\n",
    "display(out, ui)"
   ]
  },
  {
   "cell_type": "markdown",
   "metadata": {},
   "source": [
    "## Ortogonalidade entre os Símbolos\n",
    "\n",
    "$$\n",
    "\\textrm{Re}\\left[ \\int _{0}^{T} s_{ml}(t)s_{nl}(t)dt \\right] = 0\n",
    "$$\n",
    "\n",
    "Calculando a integral:\n",
    "$$\n",
    "\\begin{align*}\n",
    "\\left< s_{ml}(t), s_{nl}(t)\\right>  &= \\frac{2E}{T} \\int _{0}^{T} e^{\\jmath 2 \\pi (m-n)\\Delta ft} dt \\\\\n",
    "           & = \\frac{2E \\sin \\left( \\pi T (m-n) \\Delta f \\right)}{\\pi T (m-n) \\Delta f} e^{\\jmath 2 \\pi (m-n)\\Delta ft} \\\\\n",
    "\\end{align*}\n",
    "$$\n",
    "\n",
    "Substituindo em \n",
    "Calculando a integral:\n",
    "$$\n",
    "\\begin{align*}\n",
    "\\textrm{Re}\\left[ \\int _{0}^{T} s_{ml}(t)s_{nl}(t)dt \\right] & = \\frac{2E \\sin \\left( \\pi T (m-n) \\Delta f \\right)}{\\pi T (m-n) \\Delta f} \\cos({ 2 \\pi (m-n)\\Delta ft}) \\\\\n",
    "& =  \\frac{2E \\sin \\left( 2\\pi T (m-n) \\Delta f \\right)}{2\\pi T (m-n) \\Delta f} \\\\\n",
    "& =  2E \\textrm{sinc} \\left( 2\\pi T (m-n) \\Delta f \\right)\n",
    "\\end{align*}\n",
    "$$\n",
    "\n",
    "Condição de ortogonalidade é garantida quando \n",
    "\n",
    "$$\n",
    "\\Delta f = \\frac{1}{2T}\n",
    "$$"
   ]
  },
  {
   "cell_type": "code",
   "execution_count": 10,
   "metadata": {},
   "outputs": [
    {
     "data": {
      "application/vnd.jupyter.widget-view+json": {
       "model_id": "9d2e9f8244c346d0b9721852d578a536",
       "version_major": 2,
       "version_minor": 0
      },
      "text/plain": [
       "Output()"
      ]
     },
     "metadata": {},
     "output_type": "display_data"
    },
    {
     "data": {
      "application/vnd.jupyter.widget-view+json": {
       "model_id": "fc361c49e8284e298c6fe65159b1dcb7",
       "version_major": 2,
       "version_minor": 0
      },
      "text/plain": [
       "HBox(children=(FloatSlider(value=0.0, description='Índice de modulação ', max=2.0, step=0.001), Dropdown(descr…"
      ]
     },
     "metadata": {},
     "output_type": "display_data"
    }
   ],
   "source": [
    "def correlacao_entre_simbolos(Deltaf,T,m,n,E=1):\n",
    "\n",
    "    return 2*E*np.sinc(2*T*(m-n)*Deltaf)\n",
    "\n",
    "def plot_correlacao(Deltaf,n,M=8):\n",
    "   \n",
    "    T = 0.5\n",
    "    m = np.linspace(0,M-1,M)\n",
    "\n",
    "    corr = correlacao_entre_simbolos(Deltaf,T,m,n,E=1)\n",
    "\n",
    "    plt.stem(m,corr,'x')\n",
    "    plt.xlabel('Índice dos símbolos')\n",
    "    plt.ylabel('Correlação')\n",
    "    plt.ylim([0,2])\n",
    "\n",
    "    plt.grid()\n",
    "    plt.show()\n",
    "\n",
    "\n",
    "df = widgets.FloatSlider(min=0,max=1/0.5,step=0.001, description=\"Índice de modulação \")\n",
    "\n",
    "n = widgets.Dropdown(\n",
    "    options=np.linspace(0,M-1,M).astype(int),\n",
    "    value=0,\n",
    "    description='Símbolo',\n",
    "    disabled=False,\n",
    ")\n",
    "\n",
    "\n",
    "# An HBox lays out its children horizontally\n",
    "ui = widgets.HBox([df,n])\n",
    "\n",
    "out = widgets.interactive_output(plot_correlacao, {'Deltaf': df,'n':n})\n",
    "\n",
    "display(out, ui)\n"
   ]
  },
  {
   "cell_type": "markdown",
   "metadata": {},
   "source": []
  },
  {
   "cell_type": "markdown",
   "metadata": {},
   "source": []
  }
 ],
 "metadata": {
  "kernelspec": {
   "display_name": "Python 3.9.12 ('unb')",
   "language": "python",
   "name": "python3"
  },
  "language_info": {
   "codemirror_mode": {
    "name": "ipython",
    "version": 3
   },
   "file_extension": ".py",
   "mimetype": "text/x-python",
   "name": "python",
   "nbconvert_exporter": "python",
   "pygments_lexer": "ipython3",
   "version": "3.9.12"
  },
  "vscode": {
   "interpreter": {
    "hash": "9630fc77398032981978f73df441ebb4d15f3f3030f3913be2df7d5804cb23bb"
   }
  }
 },
 "nbformat": 4,
 "nbformat_minor": 2
}
