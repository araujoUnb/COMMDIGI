{
 "cells": [
  {
   "cell_type": "markdown",
   "metadata": {},
   "source": [
    "<img src=\"Figs/fga.png\" alt=\"isolated\"/>"
   ]
  },
  {
   "cell_type": "code",
   "execution_count": 40,
   "metadata": {},
   "outputs": [],
   "source": [
    "import numpy as np\n",
    "import matplotlib.pyplot as plt\n",
    "from ipywidgets import widgets\n",
    "from scipy.signal import lfilter\n",
    "from dash import Dash, dcc, html, Input, Output\n",
    "import plotly.express as px\n",
    "import  plotly.graph_objects as go\n",
    "import pandas as pd"
   ]
  },
  {
   "cell_type": "code",
   "execution_count": 20,
   "metadata": {},
   "outputs": [],
   "source": [
    "def rect_pulse(A,fs,T): \n",
    "    r\"\"\" Generate isolated rectangular pulse with the following parameters\n",
    "    Parameters: \n",
    "    A : amplitude of the rectangular pulse \n",
    "    fs : sampling frequency in Hz \n",
    "    T : duration of the pulse in seconds \n",
    "    Returns: (t,g) : \n",
    "    time base (t) and the signal g(t) as tuple \n",
    "    Example:\n",
    "     A = 1;\n",
    "     fs=500;T = 0.2; \n",
    "     (t,g) = rect_pulse(A,fs,T) \"\"\" \n",
    "    \n",
    "    t = np.arange(-0.5,0.5,1/fs) # time base \n",
    "    rect = (t >-T/2) * (t<T/2) + 0.5*(t==T/2) + 0.5*(t==-T/2)\n",
    "    g = A*rect \n",
    "    return (t,g)"
   ]
  },
  {
   "cell_type": "markdown",
   "metadata": {},
   "source": [
    "<h1 style=\"text-align: center;\"> Modulações Digitais </h1>\n",
    "\n",
    "<h3 style=\"text-align: center;\">Disciplina: Comunicações Digitais para Engenaharia</h3>\n",
    "\n",
    "\n",
    "<p style=\"text-align: center;\">Prof. Daniel C. Araújo</p>"
   ]
  },
  {
   "cell_type": "markdown",
   "metadata": {},
   "source": [
    "## Conteúdo\n",
    "\n",
    "1. [Introdução](#Intro)\n",
    "2. [Modulações sem Memória](#mod_sem_mem)"
   ]
  },
  {
   "cell_type": "markdown",
   "metadata": {},
   "source": [
    " # Introdução  <a name =\"intro\"></a>\n",
    "\n"
   ]
  },
  {
   "cell_type": "markdown",
   "metadata": {},
   "source": [
    "## Representação de sinais digitais\n",
    "\n",
    "* Modulação sem memória\n",
    "    * Conjunto de k bits são mapeados para um símbolo\n",
    "\n",
    "* Modulação com memória\n",
    "    * Conjunto de k bits e os anteriores $(L-1)k$ bits.\n",
    "    * A saída depende das sequências anteriores e a atual\n",
    "\n",
    "<img src=\"Figs/mod_digi/digi_mod.png\" alt=\"isolated\" />\n"
   ]
  },
  {
   "cell_type": "markdown",
   "metadata": {},
   "source": [
    "## Transmissão de Bits\n",
    "\n",
    "* Tempo de Símbolo e Tempo de bit\n",
    "\n",
    "$$\n",
    "T_b = \\frac{T_s}{k} = \\frac{T_s}{\\log_2M}\n",
    "$$\n",
    "\n",
    "* Taxa de bits e taxa de símbolo\n",
    "\n",
    "$$\n",
    "R_b = kR_s = R_s \\log_2M\n",
    "$$\n",
    "\n",
    "* Energia do sinal e Energia de bits\n",
    "\n",
    "$$\n",
    "E_{avg} = \\sum _{m=1}^{M} p_m E_m \n",
    "$$\n",
    "em que, $p_m$ são as probabilidades dos símbolos\n",
    "\n",
    "Se os bits são equiprováveis então:\n",
    "\n",
    "$$\n",
    "E_{b} = \\frac{E_{avg}}{\\log_2M}  \n",
    "$$"
   ]
  },
  {
   "cell_type": "code",
   "execution_count": 21,
   "metadata": {},
   "outputs": [
    {
     "data": {
      "image/png": "[encoded data removed]",
      "text/plain": [
       "<Figure size 432x288 with 1 Axes>"
      ]
     },
     "metadata": {
      "needs_background": "light"
     },
     "output_type": "display_data"
    },
    {
     "name": "stdout",
     "output_type": "stream",
     "text": [
      "Tempo de bit 0.2 s\n",
      "Taxa de bits 5.0 Hz\n"
     ]
    }
   ],
   "source": [
    "A = 1\n",
    "fs=500\n",
    "Tb = 0.2 \n",
    "(t,g) = rect_pulse(A,fs,Tb) \n",
    "\n",
    "plt.plot(t,g)\n",
    "plt.xlabel(\"tempo (s)\")\n",
    "plt.ylabel(\"Amplitude\")\n",
    "plt.grid()\n",
    "plt.show()\n",
    "\n",
    "print(\"Tempo de bit\", Tb, \"s\")\n",
    "print(\"Taxa de bits\", 1/Tb, \"Hz\")"
   ]
  },
  {
   "cell_type": "markdown",
   "metadata": {},
   "source": [
    "# Modulações sem Memória  <a name=\"mod_sem_mem\"></a>"
   ]
  },
  {
   "cell_type": "markdown",
   "metadata": {},
   "source": [
    "## Modulação PAM\n",
    "\n",
    "> Definição: Pulse Modulation Amplitude (PAM/ASK)\n",
    "\n",
    "* forma de onda\n",
    "\n",
    "   $$\n",
    "    s_m(t) = A_m p(t), \\,\\  0 \\leq m \\leq M - 1\n",
    "   $$\n",
    "\n",
    "* Amplitudes \n",
    "\n",
    "  $$\n",
    "  A_m = 2m + 1 - M \n",
    "  $$"
   ]
  },
  {
   "cell_type": "code",
   "execution_count": 22,
   "metadata": {},
   "outputs": [
    {
     "data": {
      "image/png": "[encoded data removed]",
      "text/plain": [
       "<Figure size 432x288 with 1 Axes>"
      ]
     },
     "metadata": {
      "needs_background": "light"
     },
     "output_type": "display_data"
    },
    {
     "name": "stdout",
     "output_type": "stream",
     "text": [
      "Tempo de bit 0.2 s\n",
      "Taxa de bits 5.0 Hz\n"
     ]
    }
   ],
   "source": [
    "def mod_pam(integer, M,fs,Tb):\n",
    "\n",
    "    A_m = 2*integer  - M + 1\n",
    "\n",
    "    return rect_pulse(A_m,fs,Tb)\n",
    "\n",
    "A = 1\n",
    "fs=500\n",
    "Tb = 0.2 \n",
    "M = 4\n",
    "integer = 1    # integer < M\n",
    "(t,g) = mod_pam(integer, M,fs,Tb) \n",
    "\n",
    "plt.plot(t,g)\n",
    "plt.xlabel(\"tempo (s)\")\n",
    "plt.ylabel(\"Amplitude\")\n",
    "plt.grid()\n",
    "plt.show()\n",
    "\n",
    "print(\"Tempo de bit\", Tb, \"s\")\n",
    "print(\"Taxa de bits\", 1/Tb, \"Hz\")"
   ]
  },
  {
   "cell_type": "markdown",
   "metadata": {},
   "source": [
    "## Energia do símbolo\n",
    "\n",
    "$$\n",
    "\\begin{align*}\n",
    "    E_s   & = \\int _{-\\infty}^{\\infty} |s_m(t)|^2 dt \\\\\n",
    "         & = \\int _{-\\infty}^{\\infty} A^2_m p(t)^2 dt \\\\\n",
    "         &  = A^2_m E_p \n",
    "\\end{align*}\n",
    "$$"
   ]
  },
  {
   "cell_type": "markdown",
   "metadata": {},
   "source": [
    "## Energia média da constelação\n",
    "$$\n",
    "\\begin{align*}\n",
    "    E_{avg}   & = \\frac{E_p}{M} \\sum _{m=1}^{M}A^2_m \\\\\n",
    "              & = \\frac{2E_p}{M} \\left(1 + 3^2 + \\ldots + (M-1)^2 \\right) \\\\\n",
    "              & = \\frac{2E_p}{M} \\frac{M(M^2-1)}{6} \\\\\n",
    "              & = \\frac{E_p(M^2-1)}{3}\n",
    "\\end{align*}  \n",
    "$$\n",
    "Portanto a energia média de bits\n",
    "\n",
    "$$\n",
    "E_{b} = \\frac{E_{avg}}{\\log_2M}  = \\frac{E_p(M^2-1)}{3\\log_2M}\n",
    "$$"
   ]
  },
  {
   "cell_type": "markdown",
   "metadata": {},
   "source": [
    "## Representação em Banda Básica e Banda Passante\n",
    "\n",
    "Assumindo que a representação de banda-básica seja \n",
    "\n",
    "$$\n",
    "s_{ml} = A_m p(t)\n",
    "$$\n",
    "em que $p(t)$ é real\n",
    "\n",
    "então sua representação de banda-passante é\n",
    "\n",
    "$$\n",
    "\\begin{align*}\n",
    "s_m(t) &= A_m p(t) \\cos (2\\pi f_c t) \\\\\n",
    "       &= A_m g(t)\n",
    "\\end{align*}  \n",
    "$$\n",
    "\n",
    "* A energia média de banda-passante será metade da energia de banda-básica:\n",
    "\n",
    "$$\n",
    "E_{b} = \\frac{E_p(M^2-1)}{6\\log_2M}\n",
    "$$"
   ]
  },
  {
   "cell_type": "markdown",
   "metadata": {},
   "source": [
    "## Símbolo PAM\n",
    "\n",
    "* A representação de banda-básica pode ser reescrita como\n",
    "\n",
    "$$\n",
    "s_ml(t) =  A_m \\sqrt{E_p} \\phi(t),\n",
    "$$\n",
    "em que $\\phi (t) = \\frac{p(t)}{\\sqrt{E_p}}$.\n",
    "\n",
    "* Símbolos PAM\n",
    "\n",
    " $$\n",
    " s_m  =  A_m \\sqrt{E_p} , \\,\\ A_m =\\{\\pm 1, \\pm 3, \\ldots , \\pm (M - 1)\\}\n",
    " $$\n",
    "\n"
   ]
  },
  {
   "cell_type": "code",
   "execution_count": 23,
   "metadata": {},
   "outputs": [
    {
     "data": {
      "application/vnd.jupyter.widget-view+json": {
       "model_id": "4a26bc158a0648f1866ba4e9ddd8c160",
       "version_major": 2,
       "version_minor": 0
      },
      "text/plain": [
       "Output()"
      ]
     },
     "metadata": {},
     "output_type": "display_data"
    },
    {
     "data": {
      "application/vnd.jupyter.widget-view+json": {
       "model_id": "9e84e75e5a984d13b53bbdceabe60e0a",
       "version_major": 2,
       "version_minor": 0
      },
      "text/plain": [
       "HBox(children=(Dropdown(description='Ordem da modulação', options=(2, 4, 8, 16, 32), value=2),))"
      ]
     },
     "metadata": {},
     "output_type": "display_data"
    }
   ],
   "source": [
    "def plot_pam_scatter(M,Ep=1):\n",
    "\n",
    "\n",
    "    m = np.arange(0,M)\n",
    "    \n",
    "\n",
    "    smr = (2*m - M + 1) * np.sqrt(Ep)\n",
    "    smi = np.zeros(len(smr))\n",
    "\n",
    "    plt.plot(smr,smi,'o')\n",
    "    plt.xlabel('Componente em fase')\n",
    "    plt.ylabel('Componente em quadratura')\n",
    "    plt.xlim([np.min(smr) - np.sqrt(Ep),np.max(smr) + np.sqrt(Ep)])\n",
    "    plt.grid()\n",
    "    plt.show()\n",
    "\n",
    "M = widgets.Dropdown(\n",
    "    options=[2,4,8,16,32],\n",
    "    value=2,\n",
    "    description='Ordem da modulação',\n",
    "    disabled=False,\n",
    ")\n",
    "\n",
    "ui = widgets.HBox([M])\n",
    "\n",
    "out = widgets.interactive_output(plot_pam_scatter, {'M': M})\n",
    "\n",
    "display(out, ui)\n"
   ]
  },
  {
   "cell_type": "markdown",
   "metadata": {},
   "source": [
    "## Distância Entre Símbolos da Modulação AM\n",
    "\n",
    "* Considere a distância euclidiana entre dois pontos \n",
    "\n",
    "$$\n",
    "\\begin{align*}\n",
    "d_{nm} & = \\sqrt{|s_m - s_n|^2} \\\\\n",
    "& = |A_m - A_n|\\sqrt{E_p} \\\\\n",
    "\\end{align*}\n",
    "$$\n",
    "\n",
    "Portanto a distância mínima entre dois símbolos será:\n",
    "\n",
    "$$\n",
    "\\begin{align*}\n",
    "d_{min} & = 2\\sqrt{E_p} \\\\\n",
    "& = \\sqrt{2E_g} \\\\ \n",
    "& = \\sqrt{\\frac{12\\log_2M}{M^2-1}E_b} \n",
    "\\end{align*}\n",
    "$$"
   ]
  },
  {
   "cell_type": "code",
   "execution_count": 24,
   "metadata": {},
   "outputs": [
    {
     "data": {
      "application/vnd.jupyter.widget-view+json": {
       "model_id": "aefe75edace14ea6b7f6c9646e47e7c4",
       "version_major": 2,
       "version_minor": 0
      },
      "text/plain": [
       "Output()"
      ]
     },
     "metadata": {},
     "output_type": "display_data"
    },
    {
     "data": {
      "application/vnd.jupyter.widget-view+json": {
       "model_id": "b933af525c9f40a19550f28108225913",
       "version_major": 2,
       "version_minor": 0
      },
      "text/plain": [
       "HBox(children=(FloatSlider(value=0.1, description='Energia de bit', max=2.0, min=0.1, step=0.01),))"
      ]
     },
     "metadata": {},
     "output_type": "display_data"
    }
   ],
   "source": [
    "def pam_dist(M,Eb):\n",
    "    return np.sqrt(12*np.log2(M)/(M**2 -1)*Eb)\n",
    "def plot_dist_min(Eb):\n",
    "    M = np.array([2,4,8,16,32])\n",
    "    d = pam_dist(M,Eb)\n",
    "\n",
    "    plt.stem(M,d)\n",
    "    plt.xlabel('Ordem da modulação')\n",
    "    plt.ylabel('Distância entre símbolos')\n",
    "    plt.grid()\n",
    "    plt.ylim([0.01,2])\n",
    "    plt.show()\n",
    "\n",
    "\n",
    "eb = widgets.FloatSlider(min=0.1,max=2,step=0.01, description=\"Energia de bit\")\n",
    "ui = widgets.HBox([eb])\n",
    "\n",
    "out = widgets.interactive_output(plot_dist_min, {'Eb': eb})\n",
    "\n",
    "display(out, ui)"
   ]
  },
  {
   "cell_type": "markdown",
   "metadata": {},
   "source": [
    "## Exercício\n",
    "\n",
    "* Programar um modulador M-PAM \n",
    "    * Obter a scatterplot na saída do modulador\n",
    "    * Sinal de banda-básica\n",
    "        * Considere o pulso retangular\n",
    "    * Sinal de banda–passante\n"
   ]
  },
  {
   "cell_type": "markdown",
   "metadata": {},
   "source": [
    "## Modulação PSK  \n",
    "\n",
    "> Definição: *Phase Shift Keying* (PSK)\n",
    "\n",
    "$$\n",
    "\\begin{align*}\n",
    "s_m(t)& = Re\\left[ g(t) e^{\\jmath \\frac{2\\pi (m-1)}{M}} e^{\\jmath 2\\pi f_c t}\\right] \\\\\n",
    "      & = g(t) \\cos \\left[ 2\\pi f_c t +  \\frac{2\\pi (m-1)}{M} \\right] \\\\\n",
    "      & =  g(t) \\cos \\left[  \\frac{2\\pi (m-1)}{M} \\right] \\cos \\left[ 2\\pi f_c t \\right]  - g(t) \\sin \\left[  \\frac{2\\pi (m-1)}{M} \\right] \\sin \\left[ 2\\pi f_c t \\right] \n",
    "\\end{align*}\n",
    "$$\n",
    "\n",
    "> Representação em banda passante:  $$ g(t) \\cos \\left[  \\frac{2\\pi (m-1)}{M} \\right] \\cos \\left[ 2\\pi f_c t \\right]  - g(t) \\sin \\left[  \\frac{2\\pi (m-1)}{M} \\right] \\sin \\left[ 2\\pi f_c t \\right] $$\n",
    "\n",
    "É possível reescrever em função do sinais de base\n",
    "\n",
    "$$ \\sqrt{\\frac{E_g}{2}} \\cos \\left[  \\frac{2\\pi (m-1)}{M} \\right] \\phi_1(t)  + \\sqrt{\\frac{E_g}{2}}\\sin \\left[  \\frac{2\\pi (m-1)}{M} \\right] \\phi_2(t) $$\n",
    "\n",
    "em que \n",
    "$$\n",
    "\\begin{align*}\n",
    "\\phi_1(t) & =  \\sqrt{\\frac{2}{E_g}} g(t)\\cos \\left[ 2\\pi f_c t \\right] \\\\\n",
    "\\phi_2(t) & =  - \\sqrt{\\frac{2}{E_g}} g(t)\\sin \\left[ 2\\pi f_c t \\right] \\\\\n",
    "\\end{align*}\n",
    "$$"
   ]
  },
  {
   "cell_type": "code",
   "execution_count": 25,
   "metadata": {},
   "outputs": [
    {
     "data": {
      "application/vnd.jupyter.widget-view+json": {
       "model_id": "1d86228e000148a19da6a1ec61c08186",
       "version_major": 2,
       "version_minor": 0
      },
      "text/plain": [
       "Output()"
      ]
     },
     "metadata": {},
     "output_type": "display_data"
    },
    {
     "data": {
      "application/vnd.jupyter.widget-view+json": {
       "model_id": "8c102f31619f4dfea2992f0ea22df870",
       "version_major": 2,
       "version_minor": 0
      },
      "text/plain": [
       "HBox(children=(Dropdown(description='Ordem da modulação', options=(2, 4, 8, 16, 32), value=2),))"
      ]
     },
     "metadata": {},
     "output_type": "display_data"
    }
   ],
   "source": [
    "def psk_mod(integer,Eg,M):\n",
    "\n",
    "    in_phase   = np.sqrt(Eg/2)*np.cos(2*np.pi*(integer -1 )/M)\n",
    "    quadrature = np.sqrt(Eg/2)*np.sin(2*np.pi*(integer -1 )/M)\n",
    "\n",
    "    return in_phase, quadrature\n",
    "\n",
    "def plot_scatter(M):\n",
    "    \n",
    "    m = np.linspace(0,M-1,M).astype(int)\n",
    "    Eg = 1\n",
    "\n",
    "    simbolo = psk_mod(m,Eg,M)\n",
    "\n",
    "    plt.scatter(simbolo[0],simbolo[1])\n",
    "    plt.xlabel('Componente em fase')\n",
    "    plt.ylabel('Componente em quadratura')\n",
    "    plt.ylim([-Eg,Eg])\n",
    "    plt.grid()\n",
    "    plt.show()\n",
    "\n",
    "M = widgets.Dropdown(\n",
    "    options=[2,4,8,16,32],\n",
    "    value=2,\n",
    "    description='Ordem da modulação',\n",
    "    disabled=False,\n",
    ")\n",
    "\n",
    "ui = widgets.HBox([M])\n",
    "\n",
    "out = widgets.interactive_output(plot_scatter, {'M': M})\n",
    "\n",
    "display(out, ui)\n",
    "\n"
   ]
  },
  {
   "cell_type": "markdown",
   "metadata": {},
   "source": [
    "## Distância entre símbolos \n",
    "\n",
    "> Distância euclidiana entre símbolos\n",
    "\n",
    "$$\n",
    "\\begin{align*}\n",
    "d_{nm} & = \\sqrt{|s_m - s_n|^2} \\\\\n",
    "& = \\sqrt{E_g\\left[1 - \\cos \\left(  \\frac{2\\pi (m-n)}{M} \\right) \\right]} \\\\\n",
    "\\end{align*}\n",
    "$$\n",
    "considerando símbolos adjacentes $|m-n|=1$\n",
    "\n",
    "$$\n",
    "\\begin{align*}\n",
    "d_{nm} & = \\sqrt{E_g\\left[1 - \\cos \\left(  \\frac{2\\pi}{M} \\right) \\right]} \\\\\n",
    "       & = \\sqrt{2 E_g \\sin ^2 \\left(  \\frac{\\pi}{M} \\right) }\n",
    "\\end{align*}\n",
    "$$\n",
    "Considerando a aproximação $\\sin \\left(  \\frac{\\pi}{M} \\right) \\approx \\frac{\\pi}{M}$ \n",
    "\n",
    "$$\n",
    "\\begin{align*}\n",
    "d_{nm} & \\approx \\sqrt{2 E_g  \\left(  \\frac{\\pi}{M} \\right)^2 }        \\\\\n",
    "       & \\approx \\sqrt{4 \\log_2M E_b \\left(  \\frac{\\pi}{M} \\right)^2 }  \\\\\n",
    "       & \\approx 2\\sqrt{  E_b  \\frac{\\log_2M \\pi^2}{M^2} }\n",
    "\\end{align*}\n",
    "$$\n"
   ]
  },
  {
   "cell_type": "code",
   "execution_count": 26,
   "metadata": {},
   "outputs": [
    {
     "data": {
      "application/vnd.jupyter.widget-view+json": {
       "model_id": "739e071abf854e69af03c3a6cd8dfc76",
       "version_major": 2,
       "version_minor": 0
      },
      "text/plain": [
       "Output()"
      ]
     },
     "metadata": {},
     "output_type": "display_data"
    },
    {
     "data": {
      "application/vnd.jupyter.widget-view+json": {
       "model_id": "3c2e258640af443d985866c97bb95719",
       "version_major": 2,
       "version_minor": 0
      },
      "text/plain": [
       "HBox(children=(FloatSlider(value=0.1, description='Energia de bit', max=2.0, min=0.1, step=0.01),))"
      ]
     },
     "metadata": {},
     "output_type": "display_data"
    }
   ],
   "source": [
    "def psk_dist(M,Eb):\n",
    "    return 2*np.sqrt(np.log2(M)*np.sin(np.pi/M)**2*Eb)\n",
    "def plot_dist_min(Eb):\n",
    "\n",
    "    M = np.array([2,4,8,16,32,64,128])\n",
    "\n",
    "    d_pam = pam_dist(M,Eb)\n",
    "    d_psk = psk_dist(M,Eb)\n",
    "\n",
    "    plt.plot(M,d_pam,'rx-',label='PAM')\n",
    "    plt.plot(M,d_psk,'bo-',label='PSK')\n",
    "\n",
    "    plt.xlabel('Ordem da modulação')\n",
    "    plt.ylabel('Distância entre símbolos')\n",
    "    plt.legend()\n",
    "    plt.grid()\n",
    "    plt.ylim([0.01,4])\n",
    "    plt.show()\n",
    "\n",
    "\n",
    "eb = widgets.FloatSlider(min=0.1,max=2,step=0.01, description=\"Energia de bit\")\n",
    "ui = widgets.HBox([eb])\n",
    "\n",
    "out = widgets.interactive_output(plot_dist_min, {'Eb': eb})\n",
    "\n",
    "display(out, ui)"
   ]
  },
  {
   "cell_type": "markdown",
   "metadata": {},
   "source": [
    "## Exercício\n",
    "\n"
   ]
  },
  {
   "cell_type": "markdown",
   "metadata": {},
   "source": [
    "## Modualação M-QAM\n",
    "\n",
    "> Definição: *Quadrature Amplitude Modulation* (QAM)\n",
    "\n",
    "$$\n",
    "\\begin{align*}\n",
    "s_m(t)& = Re\\left[(A_{mi} + \\jmath A_{mq}) g(t) e^{\\jmath 2\\pi f_c t}\\right] \\\\\n",
    "      & =  g(t) A_{mi} \\cos \\left[ 2\\pi f_c t \\right]  - g(t) A_{mq} \\sin \\left[ 2\\pi f_c t \\right] \n",
    "\\end{align*}\n",
    "$$\n",
    "\n",
    "Alternativamente, \n",
    "$$\n",
    "\\begin{align*}\n",
    "s_m(t)& = Re\\left[(r_m e^{\\jmath \\theta_m} e^{\\jmath 2\\pi f_c t}\\right] \\\\\n",
    "      & = r_m \\cos \\left[ 2\\pi f_c t + \\theta_m \\right]  \n",
    "\\end{align*}\n",
    "$$\n",
    "em que,\n",
    "$$\n",
    "\\begin{align*}\n",
    "r_m         & =\\sqrt{A^2_{mi} + A^2_{mq} } \\\\\n",
    "\\theta      & = \\tan^{-1}\\left( \\frac{A_{mq}}{A_{mi}}\\right)\n",
    "\\end{align*}\n",
    "$$\n"
   ]
  },
  {
   "cell_type": "markdown",
   "metadata": {},
   "source": [
    "## Símbolo QAM\n",
    "\n",
    "Similarment ao símbolo PSK, tem-se que \n",
    "\n",
    "$$\n",
    "s_m(t) = \\sqrt{\\frac{E_g}{2}}A_{mi}\\phi_1(t) + \\sqrt{\\frac{E_g}{2}}A_{mq}\\phi_w(t) \n",
    "$$\n",
    "\n",
    "O símbolo pode ser representado vetorialmente pelas componentes de banda-básica\n",
    "$$\n",
    "s_m = \\left[\\sqrt{\\frac{E_g}{2}}A_{mi},\\sqrt{\\frac{E_g}{2}}A_{mq}\\right]\n",
    "$$\n",
    "\n",
    "A energia do símbolo pode ser calculada como a norma ao quadrado do vetor $s_m$\n",
    "\n",
    "$$\n",
    "\\begin{align*}\n",
    "E_m &= ||s_m||^2 \\\\\n",
    "    &= \\frac{E_g}{2} \\left(A^2_{mi} + A^2_{mq}\\right)\n",
    "\\end{align*}\n",
    "$$"
   ]
  },
  {
   "cell_type": "markdown",
   "metadata": {},
   "source": [
    "## Distância entre símbolos\n",
    "\n",
    "$$\n",
    "\\begin{align*}\n",
    "d_{nm} & = \\sqrt{|s_m - s_n|^2} \\\\\n",
    "       & = \\sqrt{\\frac{E_g}{2} \\left[ \\left(A_{mi} - A_{ni} \\right)^2 + \\left(A_{mq} - A_{nq} \\right)^2 \\right]} \\\\\n",
    "\\end{align*}\n",
    "$$\n",
    "\n",
    "Considerando que o M-QAM é formado por duas constelações PAM então cada componente obdece a seguinte regra\n",
    "\n",
    "$$\n",
    "A_{m_i} = 2m + 1 - M \n",
    "$$\n",
    "Portanto, para símbolos adjacentes tem-se que \n",
    "\n",
    "$$\n",
    "\\begin{align*}\n",
    "d_{min} & = \\sqrt{\\frac{E_g}{2} \\left[ \\left(2 \\right)^2  \\right]} \\\\\n",
    "        & = \\sqrt{2 E_g } \\\\\n",
    "\\end{align*}\n",
    "$$"
   ]
  },
  {
   "cell_type": "markdown",
   "metadata": {},
   "source": [
    "## Exercício\n",
    "  Demonstre qual a energia média de uma modulação M-QAM formada pela combinação de 2 M-PAM."
   ]
  },
  {
   "cell_type": "markdown",
   "metadata": {},
   "source": [
    "## Comparativo entre as modulações\n",
    "\n",
    "| Esquema | $s_m(t)$ | $s_m$ | $E_{avg}$ | $E_{bavg}$ |$d_{min}$|\n",
    "---|:---:|:---:|:---:|:---:|:---:|\n",
    "Banda básica PAM | $A_m p(t)$ | $A_m \\sqrt{E_p}$ | $\\frac{2(M^2-1)}{3}E_p$ |  $\\frac{2(M^2-1)}{3\\log_2 M}E_p$ | $\\sqrt{\\frac{6\\log_2 M}{(M^2-1)}E_{bavg}}$|\n",
    "Banda passante PAM | $A_m g(t) \\cos (2\\pi f_c t)$ | $A_m \\sqrt{\\frac{E_g}{2}}$ | $\\frac{(M^2-1)}{3}E_g$ |  $\\frac{(M^2-1)}{3\\log_2 M}E_g$ | $\\sqrt{\\frac{6\\log_2 M}{(M^2-1)}E_{bavg}}$|\n",
    "PSK | $g(t) \\cos (2\\pi f_c t + \\frac{2\\pi}{M}(m-1))$ | $\\sqrt{\\frac{E_g}{2}}(\\cos \\left[  \\frac{2\\pi (m-1)}{M} \\right],\\sin \\left[  \\frac{2\\pi (m-1)}{M} \\right])$ |  $\\frac{1}{2}E_g$ |  $\\frac{1}{2\\log_2 M}E_g$ | $2\\sqrt{\\log_2 M \\sin ^2 \\left(  \\frac{\\pi}{M} \\right) E_{bavg}}$|\n",
    "QAM | $ g(t) A_{mi} \\cos \\left[ 2\\pi f_c t \\right]  - g(t) A_{mq} \\sin \\left[ 2\\pi f_c t \\right] $ | $\\sqrt{\\frac{E_g}{2}}(A_{mi},A_{mq})$ |  $\\frac{M-1}{3}E_g$ |  $\\frac{M-1}{3\\log_2 M}E_g$ | $\\sqrt{\\frac{6\\log_2 M}{(M^2-1)}E_{bavg}}$|\n"
   ]
  },
  {
   "cell_type": "markdown",
   "metadata": {},
   "source": [
    "## Exercício \n",
    "\n",
    "Implementar modulador M-QAM\n",
    "  * Obtenha o scatterplot na saída do modulador\n",
    "  * Sinal de banda-básica considerando um pulso formatador retangular\n",
    "  * Sinal de banda-passante"
   ]
  },
  {
   "cell_type": "markdown",
   "metadata": {},
   "source": [
    "## Modulação FSK\n",
    "> Definição : *Frequency shift keying* (FSK)\n",
    "\n",
    "$$\n",
    "\\begin{align*}\n",
    "s_m(t) &= Re\\left[s_{ml}(t)e^{\\jmath 2\\pi f_ct}\\right], \\,\\ 1 \\leq m \\leq M, \\,\\ 0 \\leq t \\leq T \\\\\n",
    "       &= \\frac{2E}{T} \\cos(2\\pi f_c t + 2\\pi m \\Delta f t)\n",
    "\\end{align*}\n",
    "$$\n",
    "\n",
    "em que\n",
    "$$\n",
    "\n",
    "\\begin{align*}\n",
    "s_{ml}(t) &= \\sqrt{\\frac{2E}{T}} e^{\\jmath 2\\pi m \\Delta f t}\n",
    "\\end{align*}\n",
    "$$\n",
    "\n"
   ]
  },
  {
   "cell_type": "code",
   "execution_count": 27,
   "metadata": {},
   "outputs": [
    {
     "data": {
      "application/vnd.jupyter.widget-view+json": {
       "model_id": "bdcb31235f2947a6a093f2617225d3e8",
       "version_major": 2,
       "version_minor": 0
      },
      "text/plain": [
       "Output()"
      ]
     },
     "metadata": {},
     "output_type": "display_data"
    },
    {
     "data": {
      "application/vnd.jupyter.widget-view+json": {
       "model_id": "ed8b5fe051a34892b9248d17091aaf39",
       "version_major": 2,
       "version_minor": 0
      },
      "text/plain": [
       "HBox(children=(Dropdown(description='Símbolo', options=(0, 1, 2, 3, 4, 5, 6, 7), value=0),))"
      ]
     },
     "metadata": {},
     "output_type": "display_data"
    }
   ],
   "source": [
    "def fsk_baseband(m,delta_f,T,fs,E=1):\n",
    "\n",
    "    A = np.sqrt(2*E/T)\n",
    "\n",
    "    nSamples = int(fs*T)\n",
    "    t = np.linspace(0,T,nSamples)/fs\n",
    "    phase = 2*np.pi*m*delta_f*t\n",
    "\n",
    "    return  A*np.exp(1j*phase), t\n",
    "\n",
    "def plot_fsk_baseband(m,M=8,Delta_f=10):\n",
    "    \n",
    "    fs      = 2*M*Delta_f\n",
    "    T       = 1000/fs\n",
    "    sml, t = fsk_baseband(m,Delta_f,T,fs)\n",
    "\n",
    "    plt.plot(t, np.real(sml),'r--',label=\"Componente em fase\")\n",
    "    plt.plot(t, np.imag(sml),'b',label=\"Componente em Quadratura\")\n",
    "\n",
    "    plt.xlabel('tempo (s)')\n",
    "    plt.ylabel('Amplitude')\n",
    "    plt.grid()\n",
    "    plt.legend()\n",
    "    plt.show()\n",
    "M=8\n",
    "\n",
    "m = widgets.Dropdown(\n",
    "    options=list(np.linspace(0,M-1,M).astype(int)),\n",
    "    value=0,\n",
    "    description='Símbolo',\n",
    "    disabled=False,\n",
    ")\n",
    "\n",
    "ui = widgets.HBox([m])\n",
    "\n",
    "out = widgets.interactive_output(plot_fsk_baseband, {'m': m})\n",
    "\n",
    "display(out, ui)"
   ]
  },
  {
   "cell_type": "markdown",
   "metadata": {},
   "source": [
    "## Ortogonalidade entre os Símbolos\n",
    "\n",
    "$$\n",
    "\\textrm{Re}\\left[ \\int _{0}^{T} s_{ml}(t)s_{nl}(t)dt \\right] = 0\n",
    "$$\n",
    "\n",
    "Calculando a integral:\n",
    "$$\n",
    "\\begin{align*}\n",
    "\\left< s_{ml}(t), s_{nl}(t)\\right>  &= \\frac{2E}{T} \\int _{0}^{T} e^{\\jmath 2 \\pi (m-n)\\Delta ft} dt \\\\\n",
    "           & = \\frac{2E \\sin \\left( \\pi T (m-n) \\Delta f \\right)}{\\pi T (m-n) \\Delta f} e^{\\jmath 2 \\pi (m-n)\\Delta ft} \\\\\n",
    "\\end{align*}\n",
    "$$\n",
    "\n",
    "Substituindo em \n",
    "Calculando a integral:\n",
    "$$\n",
    "\\begin{align*}\n",
    "\\textrm{Re}\\left[ \\int _{0}^{T} s_{ml}(t)s_{nl}(t)dt \\right] & = \\frac{2E \\sin \\left( \\pi T (m-n) \\Delta f \\right)}{\\pi T (m-n) \\Delta f} \\cos({ 2 \\pi (m-n)\\Delta ft}) \\\\\n",
    "& =  \\frac{2E \\sin \\left( 2\\pi T (m-n) \\Delta f \\right)}{2\\pi T (m-n) \\Delta f} \\\\\n",
    "& =  2E \\textrm{sinc} \\left( 2\\pi T (m-n) \\Delta f \\right)\n",
    "\\end{align*}\n",
    "$$\n",
    "\n",
    "Condição de ortogonalidade é garantida quando \n",
    "\n",
    "$$\n",
    "\\Delta f = \\frac{1}{2T}\n",
    "$$"
   ]
  },
  {
   "cell_type": "code",
   "execution_count": 28,
   "metadata": {},
   "outputs": [
    {
     "data": {
      "application/vnd.jupyter.widget-view+json": {
       "model_id": "c4cbbe915bd149e0b8a09d61f5809026",
       "version_major": 2,
       "version_minor": 0
      },
      "text/plain": [
       "Output()"
      ]
     },
     "metadata": {},
     "output_type": "display_data"
    },
    {
     "data": {
      "application/vnd.jupyter.widget-view+json": {
       "model_id": "3891067570c3466b8134afbebab56cfd",
       "version_major": 2,
       "version_minor": 0
      },
      "text/plain": [
       "HBox(children=(FloatSlider(value=0.0, description='Índice de modulação ', max=2.0, step=0.001), Dropdown(descr…"
      ]
     },
     "metadata": {},
     "output_type": "display_data"
    }
   ],
   "source": [
    "def correlacao_entre_simbolos(Deltaf,T,m,n,E=1):\n",
    "\n",
    "    return 2*E*np.sinc(2*T*(m-n)*Deltaf)\n",
    "\n",
    "def plot_correlacao(Deltaf,n,M=8):\n",
    "   \n",
    "    T = 0.5\n",
    "    m = np.linspace(0,M-1,M)\n",
    "\n",
    "    corr = correlacao_entre_simbolos(Deltaf,T,m,n,E=1)\n",
    "\n",
    "    plt.stem(m,corr,'x')\n",
    "    plt.xlabel('Índice dos símbolos')\n",
    "    plt.ylabel('Correlação')\n",
    "    plt.ylim([0,2])\n",
    "\n",
    "    plt.grid()\n",
    "    plt.show()\n",
    "\n",
    "\n",
    "df = widgets.FloatSlider(min=0,max=1/0.5,step=0.001, description=\"Índice de modulação \")\n",
    "\n",
    "n = widgets.Dropdown(\n",
    "    options=np.linspace(0,M-1,M).astype(int),\n",
    "    value=0,\n",
    "    description='Símbolo',\n",
    "    disabled=False,\n",
    ")\n",
    "\n",
    "\n",
    "# An HBox lays out its children horizontally\n",
    "ui = widgets.HBox([df,n])\n",
    "\n",
    "out = widgets.interactive_output(plot_correlacao, {'Deltaf': df,'n':n})\n",
    "\n",
    "display(out, ui)\n"
   ]
  },
  {
   "cell_type": "markdown",
   "metadata": {},
   "source": [
    "# Modulação com memória"
   ]
  },
  {
   "cell_type": "markdown",
   "metadata": {},
   "source": []
  },
  {
   "cell_type": "markdown",
   "metadata": {},
   "source": [
    "## CPM\n",
    "\n",
    "* PSK e FSK possuem transições abruptas\n",
    "* Descontinuidade de fase cria lóbulos gerando interferência em outras bandas\n",
    " geram \n",
    "* Tipos de modulação CPM: \n",
    "    * CPFSK\n",
    "    * MSK\n",
    "    * GMSK\n"
   ]
  },
  {
   "cell_type": "markdown",
   "metadata": {},
   "source": [
    "### CPFSK \n",
    " \n",
    "É um variação da modulação FSK"
   ]
  },
  {
   "cell_type": "code",
   "execution_count": 51,
   "metadata": {},
   "outputs": [],
   "source": [
    "def cpfsk():\n",
    "\n",
    "    L = 50 # Oversampling factor\n",
    "    Tb = .5 # Bit period in seconds\n",
    "    fs = L/Tb # Sampling frequency in Hz\n",
    "    fc = 2/Tb # Carrier frequency\n",
    "    N = 8 # Number of bits to transmit\n",
    "    h = 1 # Modulation index\n",
    "\n",
    "    b = 2*np.random.randint(2, size=N) - 1 # Random information sequence in +1/-1 format\n",
    "    b = np.tile(b, (L,1)).flatten('F')\n",
    "    b_integrated = lfilter([1.0],[1.0,-1.0],b)/fs # Integrate b using filter\n",
    "\n",
    "    theta = np.pi*h/Tb*b_integrated\n",
    "    t=np.arange(0,Tb*N,1/fs) # Time base\n",
    "\n",
    "    s = np.cos(2*np.pi*fc*t + theta) # CPFSK signal\n",
    "\n",
    "    fig= go.Figure()\n",
    "\n",
    "    fig.add_trace(go.Scatter(x=t,y=b,name='b(t)',\n",
    "                         line=dict(color='firebrick', width=4)))\n",
    "    \n",
    "    fig.add_trace(go.Scatter(x=t,y=s,name='s(t)',\n",
    "                         line=dict(color='firebrick', width=4,dash='dash')))\n",
    "\n",
    "    fig.update_layout(title='CPFSK',\n",
    "                   xaxis_title='tempo(s)',\n",
    "                   yaxis_title='Amplitude')\n",
    "\n",
    "    fig.show()\n",
    "\n",
    "    \n",
    "    fig= go.Figure()\n",
    "    fig.add_trace(go.Scatter(x=t,y=theta,name='\\theta (t)',\n",
    "                         line=dict(color='firebrick', width=4)))\n",
    "\n",
    "    fig.update_layout(title='CPFSK',\n",
    "                   xaxis_title='tempo(s)',\n",
    "                   yaxis_title='\\theta (t)')\n",
    "\n",
    "    fig.show()               \n",
    "   "
   ]
  },
  {
   "cell_type": "code",
   "execution_count": 52,
   "metadata": {},
   "outputs": [
    {
     "data": {
      "application/vnd.plotly.v1+json": {
       "config": {
        "plotlyServerURL": "https://plot.ly"
       },
       "data": [
        {
         "line": {
          "color": "firebrick",
          "width": 4
         },
         "name": "b(t)",
         "type": "scatter",
         "x": [
          0,
          0.01,
          0.02,
          0.03,
          0.04,
          0.05,
          0.06,
          0.07,
          0.08,
          0.09,
          0.1,
          0.11,
          0.12,
          0.13,
          0.14,
          0.15,
          0.16,
          0.17,
          0.18,
          0.19,
          0.2,
          0.21,
          0.22,
          0.23,
          0.24,
          0.25,
          0.26,
          0.27,
          0.28,
          0.29,
          0.3,
          0.31,
          0.32,
          0.33,
          0.34,
          0.35000000000000003,
          0.36,
          0.37,
          0.38,
          0.39,
          0.4,
          0.41000000000000003,
          0.42,
          0.43,
          0.44,
          0.45,
          0.46,
          0.47000000000000003,
          0.48,
          0.49,
          0.5,
          0.51,
          0.52,
          0.53,
          0.54,
          0.55,
          0.56,
          0.5700000000000001,
          0.58,
          0.59,
          0.6,
          0.61,
          0.62,
          0.63,
          0.64,
          0.65,
          0.66,
          0.67,
          0.68,
          0.6900000000000001,
          0.7000000000000001,
          0.71,
          0.72,
          0.73,
          0.74,
          0.75,
          0.76,
          0.77,
          0.78,
          0.79,
          0.8,
          0.81,
          0.8200000000000001,
          0.8300000000000001,
          0.84,
          0.85,
          0.86,
          0.87,
          0.88,
          0.89,
          0.9,
          0.91,
          0.92,
          0.93,
          0.9400000000000001,
          0.9500000000000001,
          0.96,
          0.97,
          0.98,
          0.99,
          1,
          1.01,
          1.02,
          1.03,
          1.04,
          1.05,
          1.06,
          1.07,
          1.08,
          1.09,
          1.1,
          1.11,
          1.12,
          1.1300000000000001,
          1.1400000000000001,
          1.1500000000000001,
          1.16,
          1.17,
          1.18,
          1.19,
          1.2,
          1.21,
          1.22,
          1.23,
          1.24,
          1.25,
          1.26,
          1.27,
          1.28,
          1.29,
          1.3,
          1.31,
          1.32,
          1.33,
          1.34,
          1.35,
          1.36,
          1.37,
          1.3800000000000001,
          1.3900000000000001,
          1.4000000000000001,
          1.41,
          1.42,
          1.43,
          1.44,
          1.45,
          1.46,
          1.47,
          1.48,
          1.49,
          1.5,
          1.51,
          1.52,
          1.53,
          1.54,
          1.55,
          1.56,
          1.57,
          1.58,
          1.59,
          1.6,
          1.61,
          1.62,
          1.6300000000000001,
          1.6400000000000001,
          1.6500000000000001,
          1.6600000000000001,
          1.67,
          1.68,
          1.69,
          1.7,
          1.71,
          1.72,
          1.73,
          1.74,
          1.75,
          1.76,
          1.77,
          1.78,
          1.79,
          1.8,
          1.81,
          1.82,
          1.83,
          1.84,
          1.85,
          1.86,
          1.87,
          1.8800000000000001,
          1.8900000000000001,
          1.9000000000000001,
          1.9100000000000001,
          1.92,
          1.93,
          1.94,
          1.95,
          1.96,
          1.97,
          1.98,
          1.99,
          2,
          2.0100000000000002,
          2.02,
          2.0300000000000002,
          2.04,
          2.05,
          2.06,
          2.07,
          2.08,
          2.09,
          2.1,
          2.11,
          2.12,
          2.13,
          2.14,
          2.15,
          2.16,
          2.17,
          2.18,
          2.19,
          2.2,
          2.21,
          2.22,
          2.23,
          2.24,
          2.25,
          2.2600000000000002,
          2.27,
          2.2800000000000002,
          2.29,
          2.3000000000000003,
          2.31,
          2.32,
          2.33,
          2.34,
          2.35,
          2.36,
          2.37,
          2.38,
          2.39,
          2.4,
          2.41,
          2.42,
          2.43,
          2.44,
          2.45,
          2.46,
          2.47,
          2.48,
          2.49,
          2.5,
          2.5100000000000002,
          2.52,
          2.5300000000000002,
          2.54,
          2.5500000000000003,
          2.56,
          2.57,
          2.58,
          2.59,
          2.6,
          2.61,
          2.62,
          2.63,
          2.64,
          2.65,
          2.66,
          2.67,
          2.68,
          2.69,
          2.7,
          2.71,
          2.72,
          2.73,
          2.74,
          2.75,
          2.7600000000000002,
          2.77,
          2.7800000000000002,
          2.79,
          2.8000000000000003,
          2.81,
          2.82,
          2.83,
          2.84,
          2.85,
          2.86,
          2.87,
          2.88,
          2.89,
          2.9,
          2.91,
          2.92,
          2.93,
          2.94,
          2.95,
          2.96,
          2.97,
          2.98,
          2.99,
          3,
          3.0100000000000002,
          3.02,
          3.0300000000000002,
          3.04,
          3.0500000000000003,
          3.06,
          3.0700000000000003,
          3.08,
          3.09,
          3.1,
          3.11,
          3.12,
          3.13,
          3.14,
          3.15,
          3.16,
          3.17,
          3.18,
          3.19,
          3.2,
          3.21,
          3.22,
          3.23,
          3.24,
          3.25,
          3.2600000000000002,
          3.27,
          3.2800000000000002,
          3.29,
          3.3000000000000003,
          3.31,
          3.3200000000000003,
          3.33,
          3.34,
          3.35,
          3.36,
          3.37,
          3.38,
          3.39,
          3.4,
          3.41,
          3.42,
          3.43,
          3.44,
          3.45,
          3.46,
          3.47,
          3.48,
          3.49,
          3.5,
          3.5100000000000002,
          3.52,
          3.5300000000000002,
          3.54,
          3.5500000000000003,
          3.56,
          3.5700000000000003,
          3.58,
          3.59,
          3.6,
          3.61,
          3.62,
          3.63,
          3.64,
          3.65,
          3.66,
          3.67,
          3.68,
          3.69,
          3.7,
          3.71,
          3.72,
          3.73,
          3.74,
          3.75,
          3.7600000000000002,
          3.77,
          3.7800000000000002,
          3.79,
          3.8000000000000003,
          3.81,
          3.8200000000000003,
          3.83,
          3.84,
          3.85,
          3.86,
          3.87,
          3.88,
          3.89,
          3.9,
          3.91,
          3.92,
          3.93,
          3.94,
          3.95,
          3.96,
          3.97,
          3.98,
          3.99
         ],
         "y": [
          -1,
          -1,
          -1,
          -1,
          -1,
          -1,
          -1,
          -1,
          -1,
          -1,
          -1,
          -1,
          -1,
          -1,
          -1,
          -1,
          -1,
          -1,
          -1,
          -1,
          -1,
          -1,
          -1,
          -1,
          -1,
          -1,
          -1,
          -1,
          -1,
          -1,
          -1,
          -1,
          -1,
          -1,
          -1,
          -1,
          -1,
          -1,
          -1,
          -1,
          -1,
          -1,
          -1,
          -1,
          -1,
          -1,
          -1,
          -1,
          -1,
          -1,
          1,
          1,
          1,
          1,
          1,
          1,
          1,
          1,
          1,
          1,
          1,
          1,
          1,
          1,
          1,
          1,
          1,
          1,
          1,
          1,
          1,
          1,
          1,
          1,
          1,
          1,
          1,
          1,
          1,
          1,
          1,
          1,
          1,
          1,
          1,
          1,
          1,
          1,
          1,
          1,
          1,
          1,
          1,
          1,
          1,
          1,
          1,
          1,
          1,
          1,
          -1,
          -1,
          -1,
          -1,
          -1,
          -1,
          -1,
          -1,
          -1,
          -1,
          -1,
          -1,
          -1,
          -1,
          -1,
          -1,
          -1,
          -1,
          -1,
          -1,
          -1,
          -1,
          -1,
          -1,
          -1,
          -1,
          -1,
          -1,
          -1,
          -1,
          -1,
          -1,
          -1,
          -1,
          -1,
          -1,
          -1,
          -1,
          -1,
          -1,
          -1,
          -1,
          -1,
          -1,
          -1,
          -1,
          -1,
          -1,
          -1,
          -1,
          -1,
          -1,
          -1,
          -1,
          -1,
          -1,
          -1,
          -1,
          -1,
          -1,
          -1,
          -1,
          -1,
          -1,
          -1,
          -1,
          -1,
          -1,
          -1,
          -1,
          -1,
          -1,
          -1,
          -1,
          -1,
          -1,
          -1,
          -1,
          -1,
          -1,
          -1,
          -1,
          -1,
          -1,
          -1,
          -1,
          -1,
          -1,
          -1,
          -1,
          -1,
          -1,
          -1,
          -1,
          -1,
          -1,
          -1,
          -1,
          -1,
          -1,
          1,
          1,
          1,
          1,
          1,
          1,
          1,
          1,
          1,
          1,
          1,
          1,
          1,
          1,
          1,
          1,
          1,
          1,
          1,
          1,
          1,
          1,
          1,
          1,
          1,
          1,
          1,
          1,
          1,
          1,
          1,
          1,
          1,
          1,
          1,
          1,
          1,
          1,
          1,
          1,
          1,
          1,
          1,
          1,
          1,
          1,
          1,
          1,
          1,
          1,
          1,
          1,
          1,
          1,
          1,
          1,
          1,
          1,
          1,
          1,
          1,
          1,
          1,
          1,
          1,
          1,
          1,
          1,
          1,
          1,
          1,
          1,
          1,
          1,
          1,
          1,
          1,
          1,
          1,
          1,
          1,
          1,
          1,
          1,
          1,
          1,
          1,
          1,
          1,
          1,
          1,
          1,
          1,
          1,
          1,
          1,
          1,
          1,
          1,
          1,
          1,
          1,
          1,
          1,
          1,
          1,
          1,
          1,
          1,
          1,
          1,
          1,
          1,
          1,
          1,
          1,
          1,
          1,
          1,
          1,
          1,
          1,
          1,
          1,
          1,
          1,
          1,
          1,
          1,
          1,
          1,
          1,
          1,
          1,
          1,
          1,
          1,
          1,
          1,
          1,
          1,
          1,
          1,
          1,
          1,
          1,
          1,
          1,
          1,
          1,
          -1,
          -1,
          -1,
          -1,
          -1,
          -1,
          -1,
          -1,
          -1,
          -1,
          -1,
          -1,
          -1,
          -1,
          -1,
          -1,
          -1,
          -1,
          -1,
          -1,
          -1,
          -1,
          -1,
          -1,
          -1,
          -1,
          -1,
          -1,
          -1,
          -1,
          -1,
          -1,
          -1,
          -1,
          -1,
          -1,
          -1,
          -1,
          -1,
          -1,
          -1,
          -1,
          -1,
          -1,
          -1,
          -1,
          -1,
          -1,
          -1,
          -1
         ]
        },
        {
         "line": {
          "color": "firebrick",
          "dash": "dash",
          "width": 4
         },
         "name": "s(t)",
         "type": "scatter",
         "x": [
          0,
          0.01,
          0.02,
          0.03,
          0.04,
          0.05,
          0.06,
          0.07,
          0.08,
          0.09,
          0.1,
          0.11,
          0.12,
          0.13,
          0.14,
          0.15,
          0.16,
          0.17,
          0.18,
          0.19,
          0.2,
          0.21,
          0.22,
          0.23,
          0.24,
          0.25,
          0.26,
          0.27,
          0.28,
          0.29,
          0.3,
          0.31,
          0.32,
          0.33,
          0.34,
          0.35000000000000003,
          0.36,
          0.37,
          0.38,
          0.39,
          0.4,
          0.41000000000000003,
          0.42,
          0.43,
          0.44,
          0.45,
          0.46,
          0.47000000000000003,
          0.48,
          0.49,
          0.5,
          0.51,
          0.52,
          0.53,
          0.54,
          0.55,
          0.56,
          0.5700000000000001,
          0.58,
          0.59,
          0.6,
          0.61,
          0.62,
          0.63,
          0.64,
          0.65,
          0.66,
          0.67,
          0.68,
          0.6900000000000001,
          0.7000000000000001,
          0.71,
          0.72,
          0.73,
          0.74,
          0.75,
          0.76,
          0.77,
          0.78,
          0.79,
          0.8,
          0.81,
          0.8200000000000001,
          0.8300000000000001,
          0.84,
          0.85,
          0.86,
          0.87,
          0.88,
          0.89,
          0.9,
          0.91,
          0.92,
          0.93,
          0.9400000000000001,
          0.9500000000000001,
          0.96,
          0.97,
          0.98,
          0.99,
          1,
          1.01,
          1.02,
          1.03,
          1.04,
          1.05,
          1.06,
          1.07,
          1.08,
          1.09,
          1.1,
          1.11,
          1.12,
          1.1300000000000001,
          1.1400000000000001,
          1.1500000000000001,
          1.16,
          1.17,
          1.18,
          1.19,
          1.2,
          1.21,
          1.22,
          1.23,
          1.24,
          1.25,
          1.26,
          1.27,
          1.28,
          1.29,
          1.3,
          1.31,
          1.32,
          1.33,
          1.34,
          1.35,
          1.36,
          1.37,
          1.3800000000000001,
          1.3900000000000001,
          1.4000000000000001,
          1.41,
          1.42,
          1.43,
          1.44,
          1.45,
          1.46,
          1.47,
          1.48,
          1.49,
          1.5,
          1.51,
          1.52,
          1.53,
          1.54,
          1.55,
          1.56,
          1.57,
          1.58,
          1.59,
          1.6,
          1.61,
          1.62,
          1.6300000000000001,
          1.6400000000000001,
          1.6500000000000001,
          1.6600000000000001,
          1.67,
          1.68,
          1.69,
          1.7,
          1.71,
          1.72,
          1.73,
          1.74,
          1.75,
          1.76,
          1.77,
          1.78,
          1.79,
          1.8,
          1.81,
          1.82,
          1.83,
          1.84,
          1.85,
          1.86,
          1.87,
          1.8800000000000001,
          1.8900000000000001,
          1.9000000000000001,
          1.9100000000000001,
          1.92,
          1.93,
          1.94,
          1.95,
          1.96,
          1.97,
          1.98,
          1.99,
          2,
          2.0100000000000002,
          2.02,
          2.0300000000000002,
          2.04,
          2.05,
          2.06,
          2.07,
          2.08,
          2.09,
          2.1,
          2.11,
          2.12,
          2.13,
          2.14,
          2.15,
          2.16,
          2.17,
          2.18,
          2.19,
          2.2,
          2.21,
          2.22,
          2.23,
          2.24,
          2.25,
          2.2600000000000002,
          2.27,
          2.2800000000000002,
          2.29,
          2.3000000000000003,
          2.31,
          2.32,
          2.33,
          2.34,
          2.35,
          2.36,
          2.37,
          2.38,
          2.39,
          2.4,
          2.41,
          2.42,
          2.43,
          2.44,
          2.45,
          2.46,
          2.47,
          2.48,
          2.49,
          2.5,
          2.5100000000000002,
          2.52,
          2.5300000000000002,
          2.54,
          2.5500000000000003,
          2.56,
          2.57,
          2.58,
          2.59,
          2.6,
          2.61,
          2.62,
          2.63,
          2.64,
          2.65,
          2.66,
          2.67,
          2.68,
          2.69,
          2.7,
          2.71,
          2.72,
          2.73,
          2.74,
          2.75,
          2.7600000000000002,
          2.77,
          2.7800000000000002,
          2.79,
          2.8000000000000003,
          2.81,
          2.82,
          2.83,
          2.84,
          2.85,
          2.86,
          2.87,
          2.88,
          2.89,
          2.9,
          2.91,
          2.92,
          2.93,
          2.94,
          2.95,
          2.96,
          2.97,
          2.98,
          2.99,
          3,
          3.0100000000000002,
          3.02,
          3.0300000000000002,
          3.04,
          3.0500000000000003,
          3.06,
          3.0700000000000003,
          3.08,
          3.09,
          3.1,
          3.11,
          3.12,
          3.13,
          3.14,
          3.15,
          3.16,
          3.17,
          3.18,
          3.19,
          3.2,
          3.21,
          3.22,
          3.23,
          3.24,
          3.25,
          3.2600000000000002,
          3.27,
          3.2800000000000002,
          3.29,
          3.3000000000000003,
          3.31,
          3.3200000000000003,
          3.33,
          3.34,
          3.35,
          3.36,
          3.37,
          3.38,
          3.39,
          3.4,
          3.41,
          3.42,
          3.43,
          3.44,
          3.45,
          3.46,
          3.47,
          3.48,
          3.49,
          3.5,
          3.5100000000000002,
          3.52,
          3.5300000000000002,
          3.54,
          3.5500000000000003,
          3.56,
          3.5700000000000003,
          3.58,
          3.59,
          3.6,
          3.61,
          3.62,
          3.63,
          3.64,
          3.65,
          3.66,
          3.67,
          3.68,
          3.69,
          3.7,
          3.71,
          3.72,
          3.73,
          3.74,
          3.75,
          3.7600000000000002,
          3.77,
          3.7800000000000002,
          3.79,
          3.8000000000000003,
          3.81,
          3.8200000000000003,
          3.83,
          3.84,
          3.85,
          3.86,
          3.87,
          3.88,
          3.89,
          3.9,
          3.91,
          3.92,
          3.93,
          3.94,
          3.95,
          3.96,
          3.97,
          3.98,
          3.99
         ],
         "y": [
          0.9980267284282716,
          0.9921147013144779,
          0.9510565162951535,
          0.8763066800438636,
          0.7705132427757891,
          0.6374239897486897,
          0.48175367410171555,
          0.3090169943749473,
          0.12533323356430404,
          -0.0627905195293134,
          -0.24868988716485463,
          -0.4257792915650727,
          -0.587785252292473,
          -0.7289686274214113,
          -0.8443279255020153,
          -0.9297764858882513,
          -0.9822872507286887,
          -1,
          -0.9822872507286886,
          -0.9297764858882516,
          -0.844327925502015,
          -0.7289686274214121,
          -0.5877852522924732,
          -0.42577929156507216,
          -0.2486898871648553,
          -0.06279051952931321,
          0.12533323356430423,
          0.30901699437494723,
          0.4817536741017157,
          0.6374239897486893,
          0.7705132427757894,
          0.8763066800438636,
          0.9510565162951535,
          0.9921147013144779,
          0.9980267284282714,
          0.9685831611286311,
          0.9048270524660196,
          0.8090169943749471,
          0.6845471059286896,
          0.5358267949789971,
          0.3681245526846779,
          0.18738131458572388,
          1.1943401194869635e-15,
          -0.18738131458572327,
          -0.3681245526846773,
          -0.5358267949789967,
          -0.6845471059286892,
          -0.8090169943749472,
          -0.9048270524660189,
          -0.968583161128631,
          -0.9980267284282716,
          -0.929776485888251,
          -0.7705132427757886,
          -0.5358267949789958,
          -0.24868988716485382,
          0.06279051952931436,
          0.36812455268468053,
          0.6374239897486904,
          0.8443279255020146,
          0.968583161128631,
          0.9980267284282717,
          0.929776485888251,
          0.7705132427757898,
          0.5358267949789973,
          0.24868988716485393,
          -0.06279051952931247,
          -0.36812455268467875,
          -0.6374239897486904,
          -0.8443279255020165,
          -0.9685831611286313,
          -0.9980267284282717,
          -0.9297764858882525,
          -0.7705132427757898,
          -0.535826794978999,
          -0.24868988716485577,
          0.06279051952931412,
          0.368124552684677,
          0.6374239897486903,
          0.8443279255020145,
          0.9685831611286313,
          0.9980267284282717,
          0.9297764858882511,
          0.7705132427757899,
          0.5358267949789961,
          0.24868988716485935,
          -0.062790519529314,
          -0.36812455268467686,
          -0.6374239897486902,
          -0.8443279255020144,
          -0.9685831611286313,
          -0.9980267284282717,
          -0.9297764858882512,
          -0.77051324277579,
          -0.5358267949789962,
          -0.24868988716485602,
          0.06279051952931387,
          0.36812455268467675,
          0.6374239897486901,
          0.8443279255020144,
          0.9685831611286312,
          0.9980267284282716,
          0.9921147013144781,
          0.9510565162951533,
          0.8763066800438637,
          0.7705132427757901,
          0.6374239897486916,
          0.4817536741017152,
          0.3090169943749484,
          0.12533323356430282,
          -0.06279051952931375,
          -0.24868988716485754,
          -0.42577929156507427,
          -0.5877852522924766,
          -0.7289686274214137,
          -0.8443279255020162,
          -0.9297764858882518,
          -0.982287250728688,
          -1,
          -0.982287250728689,
          -0.9297764858882526,
          -0.8443279255020155,
          -0.7289686274214128,
          -0.5877852522924726,
          -0.42577929156507305,
          -0.24868988716485624,
          -0.06279051952931596,
          0.12533323356430062,
          0.3090169943749463,
          0.48175367410171643,
          0.6374239897486899,
          0.7705132427757887,
          0.8763066800438627,
          0.9510565162951549,
          0.9921147013144778,
          0.9980267284282714,
          0.9685831611286317,
          0.9048270524660181,
          0.8090169943749461,
          0.6845471059286852,
          0.5358267949789964,
          0.36812455268468214,
          0.18738131458572657,
          6.614949657305472e-15,
          -0.18738131458572058,
          -0.3681245526846764,
          -0.5358267949789973,
          -0.6845471059286858,
          -0.8090169943749467,
          -0.90482705246602,
          -0.9685831611286303,
          -0.9980267284282714,
          -0.9921147013144785,
          -0.9510565162951545,
          -0.8763066800438639,
          -0.770513242775788,
          -0.6374239897486919,
          -0.48175367410171555,
          -0.3090169943749454,
          -0.12533323356429965,
          0.06279051952931339,
          0.24868988716485033,
          0.42577929156507716,
          0.5877852522924734,
          0.7289686274214134,
          0.8443279255020141,
          0.9297764858882517,
          0.9822872507286893,
          1,
          0.9822872507286898,
          0.9297764858882501,
          0.8443279255020156,
          0.7289686274214154,
          0.5877852522924758,
          0.4257792915650734,
          0.24868988716485316,
          0.06279051952931632,
          -0.1253332335643038,
          -0.30901699437494257,
          -0.4817536741017192,
          -0.6374239897486896,
          -0.7705132427757861,
          -0.8763066800438625,
          -0.9510565162951536,
          -0.9921147013144782,
          -0.9980267284282717,
          -0.968583161128631,
          -0.9048270524660182,
          -0.8090169943749442,
          -0.6845471059286881,
          -0.5358267949789998,
          -0.36812455268467914,
          -0.18738131458572346,
          -3.4296300182491773e-15,
          0.18738131458571672,
          0.36812455268467936,
          0.535826794978994,
          0.6845471059286882,
          0.8090169943749443,
          0.9048270524660184,
          0.9685831611286311,
          0.9980267284282719,
          0.9297764858882502,
          0.7705132427757906,
          0.5358267949789969,
          0.2486898871648534,
          -0.06279051952930238,
          -0.368124552684676,
          -0.637423989748684,
          -0.8443279255020159,
          -0.9685831611286302,
          -0.9980267284282717,
          -0.9297764858882516,
          -0.7705132427757884,
          -0.535826794979,
          -0.24868988716485696,
          0.0627905195293129,
          0.36812455268467914,
          0.6374239897486866,
          0.8443279255020139,
          0.968583161128631,
          0.9980267284282714,
          0.9297764858882529,
          0.7705132427757861,
          0.5358267949789971,
          0.24868988716484675,
          -0.06279051952930922,
          -0.36812455268468236,
          -0.6374239897486838,
          -0.8443279255020156,
          -0.9685831611286319,
          -0.9980267284282712,
          -0.9297764858882542,
          -0.770513242775793,
          -0.5358267949789942,
          -0.2486898871648641,
          0.06279051952931265,
          0.3681245526846723,
          0.6374239897486919,
          0.84432792550201,
          0.968583161128631,
          0.9980267284282714,
          0.9297764858882503,
          0.7705132427757909,
          0.5358267949789973,
          0.24868988716485388,
          -0.06279051952931608,
          -0.36812455268467553,
          -0.6374239897486891,
          -0.8443279255020155,
          -0.9685831611286335,
          -0.9980267284282718,
          -0.9297764858882491,
          -0.7705132427757933,
          -0.5358267949789944,
          -0.24868988716485743,
          0.0627905195293195,
          0.3681245526846787,
          0.6374239897486808,
          0.8443279255020136,
          0.9685831611286309,
          0.9980267284282716,
          0.9297764858882531,
          0.770513242775791,
          0.5358267949790035,
          0.24868988716484722,
          -0.06279051952930874,
          -0.36812455268467525,
          -0.6374239897486889,
          -0.8443279255020154,
          -0.9685831611286317,
          -0.9980267284282713,
          -0.9297764858882545,
          -0.7705132427757844,
          -0.5358267949790007,
          -0.24868988716484391,
          0.06279051952929798,
          0.3681245526846785,
          0.6374239897486915,
          0.8443279255020173,
          0.9685831611286325,
          0.998026728428272,
          0.9297764858882532,
          0.7705132427757913,
          0.5358267949789978,
          0.24868988716486812,
          -0.0627905195293156,
          -0.3681245526846684,
          -0.6374239897486942,
          -0.8443279255020115,
          -0.9685831611286299,
          -0.9980267284282718,
          -0.9297764858882519,
          -0.770513242775789,
          -0.5358267949789949,
          -0.2486898871648648,
          0.06279051952931901,
          0.36812455268468486,
          0.6374239897486859,
          0.8443279255020133,
          0.9685831611286307,
          0.9980267284282716,
          0.9297764858882455,
          0.7705132427757959,
          0.5358267949789919,
          0.24868988716486146,
          -0.06279051952932244,
          -0.3681245526846748,
          -0.6374239897486885,
          -0.8443279255020152,
          -0.9685831611286316,
          -0.9980267284282713,
          -0.9297764858882547,
          -0.7705132427757937,
          -0.535826794979001,
          -0.2486898871648444,
          0.0627905195292975,
          0.36812455268467803,
          0.6374239897486911,
          0.844327925502017,
          0.968583161128629,
          0.998026728428272,
          0.9297764858882533,
          0.7705132427757825,
          0.5358267949789981,
          0.24868988716485482,
          -0.0627905195293151,
          -0.3681245526846812,
          -0.6374239897486937,
          -0.8443279255020112,
          -0.9685831611286297,
          -0.9980267284282718,
          -0.9297764858882521,
          -0.7705132427757803,
          -0.5358267949790072,
          -0.24868988716486526,
          0.06279051952931852,
          0.3681245526846712,
          0.6374239897486854,
          0.8443279255020131,
          0.9685831611286306,
          0.9980267284282716,
          0.9297764858882508,
          0.7705132427757961,
          0.5358267949789923,
          0.24868988716486196,
          -0.06279051952932195,
          -0.36812455268467437,
          -0.6374239897486881,
          -0.8443279255020149,
          -0.9685831611286315,
          -0.9980267284282713,
          -0.992114701314477,
          -0.9510565162951574,
          -0.8763066800438581,
          -0.770513242775794,
          -0.6374239897486881,
          -0.4817536741017175,
          -0.30901699437494073,
          -0.12533323356430184,
          0.06279051952931118,
          0.2486898871648482,
          0.4257792915650623,
          0.5877852522924716,
          0.7289686274214071,
          0.8443279255020167,
          0.9297764858882456,
          0.9822872507286902,
          1,
          0.9822872507286889,
          0.9297764858882536,
          0.8443279255020206,
          0.7289686274214121,
          0.587785252292466,
          0.4257792915650818,
          0.2486898871648553,
          0.06279051952931852,
          -0.12533323356430864,
          -0.30901699437494723,
          -0.48175367410171105,
          -0.6374239897486824,
          -0.7705132427757894,
          -0.8763066800438614,
          -0.9510565162951552,
          -0.9921147013144761,
          -0.9980267284282718,
          -0.9685831611286297,
          -0.9048270524660252,
          -0.8090169943749497,
          -0.6845471059286845,
          -0.5358267949789957,
          -0.3681245526846812,
          -0.1873813145857326,
          -1.2739421614315414e-14,
          0.18738131458573548,
          0.3681245526846707,
          0.5358267949789981,
          0.6845471059286866,
          0.8090169943749514,
          0.9048270524660205,
          0.9685831611286305
         ]
        }
       ],
       "layout": {
        "template": {
         "data": {
          "bar": [
           {
            "error_x": {
             "color": "#2a3f5f"
            },
            "error_y": {
             "color": "#2a3f5f"
            },
            "marker": {
             "line": {
              "color": "#E5ECF6",
              "width": 0.5
             },
             "pattern": {
              "fillmode": "overlay",
              "size": 10,
              "solidity": 0.2
             }
            },
            "type": "bar"
           }
          ],
          "barpolar": [
           {
            "marker": {
             "line": {
              "color": "#E5ECF6",
              "width": 0.5
             },
             "pattern": {
              "fillmode": "overlay",
              "size": 10,
              "solidity": 0.2
             }
            },
            "type": "barpolar"
           }
          ],
          "carpet": [
           {
            "aaxis": {
             "endlinecolor": "#2a3f5f",
             "gridcolor": "white",
             "linecolor": "white",
             "minorgridcolor": "white",
             "startlinecolor": "#2a3f5f"
            },
            "baxis": {
             "endlinecolor": "#2a3f5f",
             "gridcolor": "white",
             "linecolor": "white",
             "minorgridcolor": "white",
             "startlinecolor": "#2a3f5f"
            },
            "type": "carpet"
           }
          ],
          "choropleth": [
           {
            "colorbar": {
             "outlinewidth": 0,
             "ticks": ""
            },
            "type": "choropleth"
           }
          ],
          "contour": [
           {
            "colorbar": {
             "outlinewidth": 0,
             "ticks": ""
            },
            "colorscale": [
             [
              0,
              "#0d0887"
             ],
             [
              0.1111111111111111,
              "#46039f"
             ],
             [
              0.2222222222222222,
              "#7201a8"
             ],
             [
              0.3333333333333333,
              "#9c179e"
             ],
             [
              0.4444444444444444,
              "#bd3786"
             ],
             [
              0.5555555555555556,
              "#d8576b"
             ],
             [
              0.6666666666666666,
              "#ed7953"
             ],
             [
              0.7777777777777778,
              "#fb9f3a"
             ],
             [
              0.8888888888888888,
              "#fdca26"
             ],
             [
              1,
              "#f0f921"
             ]
            ],
            "type": "contour"
           }
          ],
          "contourcarpet": [
           {
            "colorbar": {
             "outlinewidth": 0,
             "ticks": ""
            },
            "type": "contourcarpet"
           }
          ],
          "heatmap": [
           {
            "colorbar": {
             "outlinewidth": 0,
             "ticks": ""
            },
            "colorscale": [
             [
              0,
              "#0d0887"
             ],
             [
              0.1111111111111111,
              "#46039f"
             ],
             [
              0.2222222222222222,
              "#7201a8"
             ],
             [
              0.3333333333333333,
              "#9c179e"
             ],
             [
              0.4444444444444444,
              "#bd3786"
             ],
             [
              0.5555555555555556,
              "#d8576b"
             ],
             [
              0.6666666666666666,
              "#ed7953"
             ],
             [
              0.7777777777777778,
              "#fb9f3a"
             ],
             [
              0.8888888888888888,
              "#fdca26"
             ],
             [
              1,
              "#f0f921"
             ]
            ],
            "type": "heatmap"
           }
          ],
          "heatmapgl": [
           {
            "colorbar": {
             "outlinewidth": 0,
             "ticks": ""
            },
            "colorscale": [
             [
              0,
              "#0d0887"
             ],
             [
              0.1111111111111111,
              "#46039f"
             ],
             [
              0.2222222222222222,
              "#7201a8"
             ],
             [
              0.3333333333333333,
              "#9c179e"
             ],
             [
              0.4444444444444444,
              "#bd3786"
             ],
             [
              0.5555555555555556,
              "#d8576b"
             ],
             [
              0.6666666666666666,
              "#ed7953"
             ],
             [
              0.7777777777777778,
              "#fb9f3a"
             ],
             [
              0.8888888888888888,
              "#fdca26"
             ],
             [
              1,
              "#f0f921"
             ]
            ],
            "type": "heatmapgl"
           }
          ],
          "histogram": [
           {
            "marker": {
             "pattern": {
              "fillmode": "overlay",
              "size": 10,
              "solidity": 0.2
             }
            },
            "type": "histogram"
           }
          ],
          "histogram2d": [
           {
            "colorbar": {
             "outlinewidth": 0,
             "ticks": ""
            },
            "colorscale": [
             [
              0,
              "#0d0887"
             ],
             [
              0.1111111111111111,
              "#46039f"
             ],
             [
              0.2222222222222222,
              "#7201a8"
             ],
             [
              0.3333333333333333,
              "#9c179e"
             ],
             [
              0.4444444444444444,
              "#bd3786"
             ],
             [
              0.5555555555555556,
              "#d8576b"
             ],
             [
              0.6666666666666666,
              "#ed7953"
             ],
             [
              0.7777777777777778,
              "#fb9f3a"
             ],
             [
              0.8888888888888888,
              "#fdca26"
             ],
             [
              1,
              "#f0f921"
             ]
            ],
            "type": "histogram2d"
           }
          ],
          "histogram2dcontour": [
           {
            "colorbar": {
             "outlinewidth": 0,
             "ticks": ""
            },
            "colorscale": [
             [
              0,
              "#0d0887"
             ],
             [
              0.1111111111111111,
              "#46039f"
             ],
             [
              0.2222222222222222,
              "#7201a8"
             ],
             [
              0.3333333333333333,
              "#9c179e"
             ],
             [
              0.4444444444444444,
              "#bd3786"
             ],
             [
              0.5555555555555556,
              "#d8576b"
             ],
             [
              0.6666666666666666,
              "#ed7953"
             ],
             [
              0.7777777777777778,
              "#fb9f3a"
             ],
             [
              0.8888888888888888,
              "#fdca26"
             ],
             [
              1,
              "#f0f921"
             ]
            ],
            "type": "histogram2dcontour"
           }
          ],
          "mesh3d": [
           {
            "colorbar": {
             "outlinewidth": 0,
             "ticks": ""
            },
            "type": "mesh3d"
           }
          ],
          "parcoords": [
           {
            "line": {
             "colorbar": {
              "outlinewidth": 0,
              "ticks": ""
             }
            },
            "type": "parcoords"
           }
          ],
          "pie": [
           {
            "automargin": true,
            "type": "pie"
           }
          ],
          "scatter": [
           {
            "fillpattern": {
             "fillmode": "overlay",
             "size": 10,
             "solidity": 0.2
            },
            "type": "scatter"
           }
          ],
          "scatter3d": [
           {
            "line": {
             "colorbar": {
              "outlinewidth": 0,
              "ticks": ""
             }
            },
            "marker": {
             "colorbar": {
              "outlinewidth": 0,
              "ticks": ""
             }
            },
            "type": "scatter3d"
           }
          ],
          "scattercarpet": [
           {
            "marker": {
             "colorbar": {
              "outlinewidth": 0,
              "ticks": ""
             }
            },
            "type": "scattercarpet"
           }
          ],
          "scattergeo": [
           {
            "marker": {
             "colorbar": {
              "outlinewidth": 0,
              "ticks": ""
             }
            },
            "type": "scattergeo"
           }
          ],
          "scattergl": [
           {
            "marker": {
             "colorbar": {
              "outlinewidth": 0,
              "ticks": ""
             }
            },
            "type": "scattergl"
           }
          ],
          "scattermapbox": [
           {
            "marker": {
             "colorbar": {
              "outlinewidth": 0,
              "ticks": ""
             }
            },
            "type": "scattermapbox"
           }
          ],
          "scatterpolar": [
           {
            "marker": {
             "colorbar": {
              "outlinewidth": 0,
              "ticks": ""
             }
            },
            "type": "scatterpolar"
           }
          ],
          "scatterpolargl": [
           {
            "marker": {
             "colorbar": {
              "outlinewidth": 0,
              "ticks": ""
             }
            },
            "type": "scatterpolargl"
           }
          ],
          "scatterternary": [
           {
            "marker": {
             "colorbar": {
              "outlinewidth": 0,
              "ticks": ""
             }
            },
            "type": "scatterternary"
           }
          ],
          "surface": [
           {
            "colorbar": {
             "outlinewidth": 0,
             "ticks": ""
            },
            "colorscale": [
             [
              0,
              "#0d0887"
             ],
             [
              0.1111111111111111,
              "#46039f"
             ],
             [
              0.2222222222222222,
              "#7201a8"
             ],
             [
              0.3333333333333333,
              "#9c179e"
             ],
             [
              0.4444444444444444,
              "#bd3786"
             ],
             [
              0.5555555555555556,
              "#d8576b"
             ],
             [
              0.6666666666666666,
              "#ed7953"
             ],
             [
              0.7777777777777778,
              "#fb9f3a"
             ],
             [
              0.8888888888888888,
              "#fdca26"
             ],
             [
              1,
              "#f0f921"
             ]
            ],
            "type": "surface"
           }
          ],
          "table": [
           {
            "cells": {
             "fill": {
              "color": "#EBF0F8"
             },
             "line": {
              "color": "white"
             }
            },
            "header": {
             "fill": {
              "color": "#C8D4E3"
             },
             "line": {
              "color": "white"
             }
            },
            "type": "table"
           }
          ]
         },
         "layout": {
          "annotationdefaults": {
           "arrowcolor": "#2a3f5f",
           "arrowhead": 0,
           "arrowwidth": 1
          },
          "autotypenumbers": "strict",
          "coloraxis": {
           "colorbar": {
            "outlinewidth": 0,
            "ticks": ""
           }
          },
          "colorscale": {
           "diverging": [
            [
             0,
             "#8e0152"
            ],
            [
             0.1,
             "#c51b7d"
            ],
            [
             0.2,
             "#de77ae"
            ],
            [
             0.3,
             "#f1b6da"
            ],
            [
             0.4,
             "#fde0ef"
            ],
            [
             0.5,
             "#f7f7f7"
            ],
            [
             0.6,
             "#e6f5d0"
            ],
            [
             0.7,
             "#b8e186"
            ],
            [
             0.8,
             "#7fbc41"
            ],
            [
             0.9,
             "#4d9221"
            ],
            [
             1,
             "#276419"
            ]
           ],
           "sequential": [
            [
             0,
             "#0d0887"
            ],
            [
             0.1111111111111111,
             "#46039f"
            ],
            [
             0.2222222222222222,
             "#7201a8"
            ],
            [
             0.3333333333333333,
             "#9c179e"
            ],
            [
             0.4444444444444444,
             "#bd3786"
            ],
            [
             0.5555555555555556,
             "#d8576b"
            ],
            [
             0.6666666666666666,
             "#ed7953"
            ],
            [
             0.7777777777777778,
             "#fb9f3a"
            ],
            [
             0.8888888888888888,
             "#fdca26"
            ],
            [
             1,
             "#f0f921"
            ]
           ],
           "sequentialminus": [
            [
             0,
             "#0d0887"
            ],
            [
             0.1111111111111111,
             "#46039f"
            ],
            [
             0.2222222222222222,
             "#7201a8"
            ],
            [
             0.3333333333333333,
             "#9c179e"
            ],
            [
             0.4444444444444444,
             "#bd3786"
            ],
            [
             0.5555555555555556,
             "#d8576b"
            ],
            [
             0.6666666666666666,
             "#ed7953"
            ],
            [
             0.7777777777777778,
             "#fb9f3a"
            ],
            [
             0.8888888888888888,
             "#fdca26"
            ],
            [
             1,
             "#f0f921"
            ]
           ]
          },
          "colorway": [
           "#636efa",
           "#EF553B",
           "#00cc96",
           "#ab63fa",
           "#FFA15A",
           "#19d3f3",
           "#FF6692",
           "#B6E880",
           "#FF97FF",
           "#FECB52"
          ],
          "font": {
           "color": "#2a3f5f"
          },
          "geo": {
           "bgcolor": "white",
           "lakecolor": "white",
           "landcolor": "#E5ECF6",
           "showlakes": true,
           "showland": true,
           "subunitcolor": "white"
          },
          "hoverlabel": {
           "align": "left"
          },
          "hovermode": "closest",
          "mapbox": {
           "style": "light"
          },
          "paper_bgcolor": "white",
          "plot_bgcolor": "#E5ECF6",
          "polar": {
           "angularaxis": {
            "gridcolor": "white",
            "linecolor": "white",
            "ticks": ""
           },
           "bgcolor": "#E5ECF6",
           "radialaxis": {
            "gridcolor": "white",
            "linecolor": "white",
            "ticks": ""
           }
          },
          "scene": {
           "xaxis": {
            "backgroundcolor": "#E5ECF6",
            "gridcolor": "white",
            "gridwidth": 2,
            "linecolor": "white",
            "showbackground": true,
            "ticks": "",
            "zerolinecolor": "white"
           },
           "yaxis": {
            "backgroundcolor": "#E5ECF6",
            "gridcolor": "white",
            "gridwidth": 2,
            "linecolor": "white",
            "showbackground": true,
            "ticks": "",
            "zerolinecolor": "white"
           },
           "zaxis": {
            "backgroundcolor": "#E5ECF6",
            "gridcolor": "white",
            "gridwidth": 2,
            "linecolor": "white",
            "showbackground": true,
            "ticks": "",
            "zerolinecolor": "white"
           }
          },
          "shapedefaults": {
           "line": {
            "color": "#2a3f5f"
           }
          },
          "ternary": {
           "aaxis": {
            "gridcolor": "white",
            "linecolor": "white",
            "ticks": ""
           },
           "baxis": {
            "gridcolor": "white",
            "linecolor": "white",
            "ticks": ""
           },
           "bgcolor": "#E5ECF6",
           "caxis": {
            "gridcolor": "white",
            "linecolor": "white",
            "ticks": ""
           }
          },
          "title": {
           "x": 0.05
          },
          "xaxis": {
           "automargin": true,
           "gridcolor": "white",
           "linecolor": "white",
           "ticks": "",
           "title": {
            "standoff": 15
           },
           "zerolinecolor": "white",
           "zerolinewidth": 2
          },
          "yaxis": {
           "automargin": true,
           "gridcolor": "white",
           "linecolor": "white",
           "ticks": "",
           "title": {
            "standoff": 15
           },
           "zerolinecolor": "white",
           "zerolinewidth": 2
          }
         }
        },
        "title": {
         "text": "CPFSK"
        },
        "xaxis": {
         "title": {
          "text": "tempo(s)"
         }
        },
        "yaxis": {
         "title": {
          "text": "Amplitude"
         }
        }
       }
      }
     },
     "metadata": {},
     "output_type": "display_data"
    },
    {
     "data": {
      "application/vnd.plotly.v1+json": {
       "config": {
        "plotlyServerURL": "https://plot.ly"
       },
       "data": [
        {
         "line": {
          "color": "firebrick",
          "width": 4
         },
         "name": "\theta (t)",
         "type": "scatter",
         "x": [
          0,
          0.01,
          0.02,
          0.03,
          0.04,
          0.05,
          0.06,
          0.07,
          0.08,
          0.09,
          0.1,
          0.11,
          0.12,
          0.13,
          0.14,
          0.15,
          0.16,
          0.17,
          0.18,
          0.19,
          0.2,
          0.21,
          0.22,
          0.23,
          0.24,
          0.25,
          0.26,
          0.27,
          0.28,
          0.29,
          0.3,
          0.31,
          0.32,
          0.33,
          0.34,
          0.35000000000000003,
          0.36,
          0.37,
          0.38,
          0.39,
          0.4,
          0.41000000000000003,
          0.42,
          0.43,
          0.44,
          0.45,
          0.46,
          0.47000000000000003,
          0.48,
          0.49,
          0.5,
          0.51,
          0.52,
          0.53,
          0.54,
          0.55,
          0.56,
          0.5700000000000001,
          0.58,
          0.59,
          0.6,
          0.61,
          0.62,
          0.63,
          0.64,
          0.65,
          0.66,
          0.67,
          0.68,
          0.6900000000000001,
          0.7000000000000001,
          0.71,
          0.72,
          0.73,
          0.74,
          0.75,
          0.76,
          0.77,
          0.78,
          0.79,
          0.8,
          0.81,
          0.8200000000000001,
          0.8300000000000001,
          0.84,
          0.85,
          0.86,
          0.87,
          0.88,
          0.89,
          0.9,
          0.91,
          0.92,
          0.93,
          0.9400000000000001,
          0.9500000000000001,
          0.96,
          0.97,
          0.98,
          0.99,
          1,
          1.01,
          1.02,
          1.03,
          1.04,
          1.05,
          1.06,
          1.07,
          1.08,
          1.09,
          1.1,
          1.11,
          1.12,
          1.1300000000000001,
          1.1400000000000001,
          1.1500000000000001,
          1.16,
          1.17,
          1.18,
          1.19,
          1.2,
          1.21,
          1.22,
          1.23,
          1.24,
          1.25,
          1.26,
          1.27,
          1.28,
          1.29,
          1.3,
          1.31,
          1.32,
          1.33,
          1.34,
          1.35,
          1.36,
          1.37,
          1.3800000000000001,
          1.3900000000000001,
          1.4000000000000001,
          1.41,
          1.42,
          1.43,
          1.44,
          1.45,
          1.46,
          1.47,
          1.48,
          1.49,
          1.5,
          1.51,
          1.52,
          1.53,
          1.54,
          1.55,
          1.56,
          1.57,
          1.58,
          1.59,
          1.6,
          1.61,
          1.62,
          1.6300000000000001,
          1.6400000000000001,
          1.6500000000000001,
          1.6600000000000001,
          1.67,
          1.68,
          1.69,
          1.7,
          1.71,
          1.72,
          1.73,
          1.74,
          1.75,
          1.76,
          1.77,
          1.78,
          1.79,
          1.8,
          1.81,
          1.82,
          1.83,
          1.84,
          1.85,
          1.86,
          1.87,
          1.8800000000000001,
          1.8900000000000001,
          1.9000000000000001,
          1.9100000000000001,
          1.92,
          1.93,
          1.94,
          1.95,
          1.96,
          1.97,
          1.98,
          1.99,
          2,
          2.0100000000000002,
          2.02,
          2.0300000000000002,
          2.04,
          2.05,
          2.06,
          2.07,
          2.08,
          2.09,
          2.1,
          2.11,
          2.12,
          2.13,
          2.14,
          2.15,
          2.16,
          2.17,
          2.18,
          2.19,
          2.2,
          2.21,
          2.22,
          2.23,
          2.24,
          2.25,
          2.2600000000000002,
          2.27,
          2.2800000000000002,
          2.29,
          2.3000000000000003,
          2.31,
          2.32,
          2.33,
          2.34,
          2.35,
          2.36,
          2.37,
          2.38,
          2.39,
          2.4,
          2.41,
          2.42,
          2.43,
          2.44,
          2.45,
          2.46,
          2.47,
          2.48,
          2.49,
          2.5,
          2.5100000000000002,
          2.52,
          2.5300000000000002,
          2.54,
          2.5500000000000003,
          2.56,
          2.57,
          2.58,
          2.59,
          2.6,
          2.61,
          2.62,
          2.63,
          2.64,
          2.65,
          2.66,
          2.67,
          2.68,
          2.69,
          2.7,
          2.71,
          2.72,
          2.73,
          2.74,
          2.75,
          2.7600000000000002,
          2.77,
          2.7800000000000002,
          2.79,
          2.8000000000000003,
          2.81,
          2.82,
          2.83,
          2.84,
          2.85,
          2.86,
          2.87,
          2.88,
          2.89,
          2.9,
          2.91,
          2.92,
          2.93,
          2.94,
          2.95,
          2.96,
          2.97,
          2.98,
          2.99,
          3,
          3.0100000000000002,
          3.02,
          3.0300000000000002,
          3.04,
          3.0500000000000003,
          3.06,
          3.0700000000000003,
          3.08,
          3.09,
          3.1,
          3.11,
          3.12,
          3.13,
          3.14,
          3.15,
          3.16,
          3.17,
          3.18,
          3.19,
          3.2,
          3.21,
          3.22,
          3.23,
          3.24,
          3.25,
          3.2600000000000002,
          3.27,
          3.2800000000000002,
          3.29,
          3.3000000000000003,
          3.31,
          3.3200000000000003,
          3.33,
          3.34,
          3.35,
          3.36,
          3.37,
          3.38,
          3.39,
          3.4,
          3.41,
          3.42,
          3.43,
          3.44,
          3.45,
          3.46,
          3.47,
          3.48,
          3.49,
          3.5,
          3.5100000000000002,
          3.52,
          3.5300000000000002,
          3.54,
          3.5500000000000003,
          3.56,
          3.5700000000000003,
          3.58,
          3.59,
          3.6,
          3.61,
          3.62,
          3.63,
          3.64,
          3.65,
          3.66,
          3.67,
          3.68,
          3.69,
          3.7,
          3.71,
          3.72,
          3.73,
          3.74,
          3.75,
          3.7600000000000002,
          3.77,
          3.7800000000000002,
          3.79,
          3.8000000000000003,
          3.81,
          3.8200000000000003,
          3.83,
          3.84,
          3.85,
          3.86,
          3.87,
          3.88,
          3.89,
          3.9,
          3.91,
          3.92,
          3.93,
          3.94,
          3.95,
          3.96,
          3.97,
          3.98,
          3.99
         ],
         "y": [
          -0.06283185307179587,
          -0.12566370614359174,
          -0.18849555921538758,
          -0.25132741228718347,
          -0.3141592653589793,
          -0.37699111843077515,
          -0.4398229715025711,
          -0.5026548245743669,
          -0.5654866776461628,
          -0.6283185307179586,
          -0.6911503837897545,
          -0.7539822368615503,
          -0.8168140899333463,
          -0.8796459430051422,
          -0.9424777960769379,
          -1.0053096491487339,
          -1.0681415022205298,
          -1.1309733552923256,
          -1.1938052083641213,
          -1.2566370614359172,
          -1.319468914507713,
          -1.382300767579509,
          -1.4451326206513049,
          -1.5079644737231006,
          -1.5707963267948966,
          -1.6336281798666925,
          -1.6964600329384885,
          -1.7592918860102844,
          -1.82212373908208,
          -1.8849555921538759,
          -1.9477874452256718,
          -2.0106192982974678,
          -2.0734511513692637,
          -2.1362830044410597,
          -2.199114857512855,
          -2.261946710584651,
          -2.324778563656447,
          -2.3876104167282426,
          -2.4504422698000385,
          -2.5132741228718345,
          -2.57610597594363,
          -2.638937829015426,
          -2.701769682087222,
          -2.764601535159018,
          -2.827433388230814,
          -2.8902652413026098,
          -2.9530970943744053,
          -3.015928947446201,
          -3.078760800517997,
          -3.141592653589793,
          -3.078760800517997,
          -3.015928947446201,
          -2.9530970943744053,
          -2.8902652413026098,
          -2.827433388230814,
          -2.764601535159018,
          -2.701769682087222,
          -2.638937829015426,
          -2.57610597594363,
          -2.5132741228718345,
          -2.4504422698000385,
          -2.3876104167282426,
          -2.324778563656447,
          -2.261946710584651,
          -2.199114857512855,
          -2.1362830044410597,
          -2.0734511513692637,
          -2.0106192982974678,
          -1.9477874452256718,
          -1.8849555921538759,
          -1.82212373908208,
          -1.7592918860102844,
          -1.6964600329384885,
          -1.6336281798666925,
          -1.5707963267948966,
          -1.5079644737231006,
          -1.4451326206513049,
          -1.382300767579509,
          -1.319468914507713,
          -1.2566370614359172,
          -1.1938052083641213,
          -1.1309733552923256,
          -1.0681415022205298,
          -1.0053096491487339,
          -0.9424777960769379,
          -0.8796459430051422,
          -0.8168140899333463,
          -0.7539822368615503,
          -0.6911503837897545,
          -0.6283185307179586,
          -0.5654866776461628,
          -0.5026548245743669,
          -0.4398229715025711,
          -0.37699111843077515,
          -0.3141592653589793,
          -0.25132741228718347,
          -0.18849555921538758,
          -0.12566370614359174,
          -0.06283185307179587,
          0,
          -0.06283185307179587,
          -0.12566370614359174,
          -0.18849555921538758,
          -0.25132741228718347,
          -0.3141592653589793,
          -0.37699111843077515,
          -0.4398229715025711,
          -0.5026548245743669,
          -0.5654866776461628,
          -0.6283185307179586,
          -0.6911503837897545,
          -0.7539822368615503,
          -0.8168140899333463,
          -0.8796459430051422,
          -0.9424777960769379,
          -1.0053096491487339,
          -1.0681415022205298,
          -1.1309733552923256,
          -1.1938052083641213,
          -1.2566370614359172,
          -1.319468914507713,
          -1.382300767579509,
          -1.4451326206513049,
          -1.5079644737231006,
          -1.5707963267948966,
          -1.6336281798666925,
          -1.6964600329384885,
          -1.7592918860102844,
          -1.82212373908208,
          -1.8849555921538759,
          -1.9477874452256718,
          -2.0106192982974678,
          -2.0734511513692637,
          -2.1362830044410597,
          -2.199114857512855,
          -2.261946710584651,
          -2.324778563656447,
          -2.3876104167282426,
          -2.4504422698000385,
          -2.5132741228718345,
          -2.57610597594363,
          -2.638937829015426,
          -2.701769682087222,
          -2.764601535159018,
          -2.827433388230814,
          -2.8902652413026098,
          -2.9530970943744053,
          -3.015928947446201,
          -3.078760800517997,
          -3.141592653589793,
          -3.204424506661589,
          -3.267256359733385,
          -3.330088212805181,
          -3.392920065876977,
          -3.455751918948773,
          -3.518583772020569,
          -3.581415625092364,
          -3.64424747816416,
          -3.707079331235956,
          -3.7699111843077517,
          -3.8327430373795477,
          -3.8955748904513436,
          -3.958406743523139,
          -4.0212385965949355,
          -4.084070449666731,
          -4.1469023027385274,
          -4.209734155810323,
          -4.272566008882119,
          -4.335397861953914,
          -4.39822971502571,
          -4.461061568097506,
          -4.523893421169302,
          -4.586725274241098,
          -4.649557127312894,
          -4.71238898038469,
          -4.775220833456485,
          -4.838052686528282,
          -4.900884539600077,
          -4.9637163926718735,
          -5.026548245743669,
          -5.089380098815465,
          -5.15221195188726,
          -5.215043804959056,
          -5.277875658030852,
          -5.340707511102648,
          -5.403539364174444,
          -5.46637121724624,
          -5.529203070318036,
          -5.592034923389832,
          -5.654866776461628,
          -5.717698629533424,
          -5.7805304826052195,
          -5.843362335677016,
          -5.9061941887488105,
          -5.969026041820607,
          -6.031857894892402,
          -6.094689747964199,
          -6.157521601035994,
          -6.220353454107791,
          -6.283185307179586,
          -6.220353454107791,
          -6.157521601035994,
          -6.094689747964199,
          -6.031857894892402,
          -5.969026041820607,
          -5.9061941887488105,
          -5.843362335677016,
          -5.7805304826052195,
          -5.717698629533424,
          -5.654866776461628,
          -5.592034923389832,
          -5.529203070318036,
          -5.46637121724624,
          -5.403539364174444,
          -5.340707511102648,
          -5.277875658030852,
          -5.215043804959056,
          -5.15221195188726,
          -5.089380098815465,
          -5.026548245743669,
          -4.9637163926718735,
          -4.900884539600077,
          -4.838052686528282,
          -4.775220833456485,
          -4.71238898038469,
          -4.649557127312894,
          -4.586725274241098,
          -4.523893421169302,
          -4.461061568097506,
          -4.39822971502571,
          -4.335397861953914,
          -4.272566008882119,
          -4.209734155810323,
          -4.1469023027385274,
          -4.084070449666731,
          -4.0212385965949355,
          -3.958406743523139,
          -3.8955748904513436,
          -3.8327430373795477,
          -3.7699111843077517,
          -3.707079331235956,
          -3.64424747816416,
          -3.581415625092364,
          -3.518583772020569,
          -3.455751918948773,
          -3.392920065876977,
          -3.330088212805181,
          -3.267256359733385,
          -3.204424506661589,
          -3.141592653589793,
          -3.078760800517997,
          -3.015928947446201,
          -2.9530970943744053,
          -2.8902652413026098,
          -2.827433388230814,
          -2.764601535159018,
          -2.701769682087222,
          -2.638937829015426,
          -2.57610597594363,
          -2.5132741228718345,
          -2.4504422698000385,
          -2.3876104167282426,
          -2.324778563656447,
          -2.261946710584651,
          -2.199114857512855,
          -2.1362830044410597,
          -2.0734511513692637,
          -2.0106192982974678,
          -1.9477874452256718,
          -1.8849555921538759,
          -1.82212373908208,
          -1.7592918860102844,
          -1.6964600329384885,
          -1.6336281798666925,
          -1.5707963267948966,
          -1.5079644737231006,
          -1.4451326206513049,
          -1.382300767579509,
          -1.319468914507713,
          -1.2566370614359172,
          -1.1938052083641213,
          -1.1309733552923256,
          -1.0681415022205298,
          -1.0053096491487339,
          -0.9424777960769379,
          -0.8796459430051422,
          -0.8168140899333463,
          -0.7539822368615503,
          -0.6911503837897545,
          -0.6283185307179586,
          -0.5654866776461628,
          -0.5026548245743669,
          -0.4398229715025711,
          -0.37699111843077515,
          -0.3141592653589793,
          -0.25132741228718347,
          -0.18849555921538758,
          -0.12566370614359174,
          -0.06283185307179587,
          0,
          0.06283185307179587,
          0.12566370614359174,
          0.18849555921538758,
          0.25132741228718347,
          0.3141592653589793,
          0.37699111843077515,
          0.4398229715025711,
          0.5026548245743669,
          0.5654866776461628,
          0.6283185307179586,
          0.6911503837897545,
          0.7539822368615503,
          0.8168140899333463,
          0.8796459430051422,
          0.9424777960769379,
          1.0053096491487339,
          1.0681415022205298,
          1.1309733552923256,
          1.1938052083641213,
          1.2566370614359172,
          1.319468914507713,
          1.382300767579509,
          1.4451326206513049,
          1.5079644737231006,
          1.5707963267948966,
          1.6336281798666925,
          1.6964600329384885,
          1.7592918860102844,
          1.82212373908208,
          1.8849555921538759,
          1.9477874452256718,
          2.0106192982974678,
          2.0734511513692637,
          2.1362830044410597,
          2.199114857512855,
          2.261946710584651,
          2.324778563656447,
          2.3876104167282426,
          2.4504422698000385,
          2.5132741228718345,
          2.57610597594363,
          2.638937829015426,
          2.701769682087222,
          2.764601535159018,
          2.827433388230814,
          2.8902652413026098,
          2.9530970943744053,
          3.015928947446201,
          3.078760800517997,
          3.141592653589793,
          3.078760800517997,
          3.015928947446201,
          2.9530970943744053,
          2.8902652413026098,
          2.827433388230814,
          2.764601535159018,
          2.701769682087222,
          2.638937829015426,
          2.57610597594363,
          2.5132741228718345,
          2.4504422698000385,
          2.3876104167282426,
          2.324778563656447,
          2.261946710584651,
          2.199114857512855,
          2.1362830044410597,
          2.0734511513692637,
          2.0106192982974678,
          1.9477874452256718,
          1.8849555921538759,
          1.82212373908208,
          1.7592918860102844,
          1.6964600329384885,
          1.6336281798666925,
          1.5707963267948966,
          1.5079644737231006,
          1.4451326206513049,
          1.382300767579509,
          1.319468914507713,
          1.2566370614359172,
          1.1938052083641213,
          1.1309733552923256,
          1.0681415022205298,
          1.0053096491487339,
          0.9424777960769379,
          0.8796459430051422,
          0.8168140899333463,
          0.7539822368615503,
          0.6911503837897545,
          0.6283185307179586,
          0.5654866776461628,
          0.5026548245743669,
          0.4398229715025711,
          0.37699111843077515,
          0.3141592653589793,
          0.25132741228718347,
          0.18849555921538758,
          0.12566370614359174,
          0.06283185307179587,
          0
         ]
        }
       ],
       "layout": {
        "template": {
         "data": {
          "bar": [
           {
            "error_x": {
             "color": "#2a3f5f"
            },
            "error_y": {
             "color": "#2a3f5f"
            },
            "marker": {
             "line": {
              "color": "#E5ECF6",
              "width": 0.5
             },
             "pattern": {
              "fillmode": "overlay",
              "size": 10,
              "solidity": 0.2
             }
            },
            "type": "bar"
           }
          ],
          "barpolar": [
           {
            "marker": {
             "line": {
              "color": "#E5ECF6",
              "width": 0.5
             },
             "pattern": {
              "fillmode": "overlay",
              "size": 10,
              "solidity": 0.2
             }
            },
            "type": "barpolar"
           }
          ],
          "carpet": [
           {
            "aaxis": {
             "endlinecolor": "#2a3f5f",
             "gridcolor": "white",
             "linecolor": "white",
             "minorgridcolor": "white",
             "startlinecolor": "#2a3f5f"
            },
            "baxis": {
             "endlinecolor": "#2a3f5f",
             "gridcolor": "white",
             "linecolor": "white",
             "minorgridcolor": "white",
             "startlinecolor": "#2a3f5f"
            },
            "type": "carpet"
           }
          ],
          "choropleth": [
           {
            "colorbar": {
             "outlinewidth": 0,
             "ticks": ""
            },
            "type": "choropleth"
           }
          ],
          "contour": [
           {
            "colorbar": {
             "outlinewidth": 0,
             "ticks": ""
            },
            "colorscale": [
             [
              0,
              "#0d0887"
             ],
             [
              0.1111111111111111,
              "#46039f"
             ],
             [
              0.2222222222222222,
              "#7201a8"
             ],
             [
              0.3333333333333333,
              "#9c179e"
             ],
             [
              0.4444444444444444,
              "#bd3786"
             ],
             [
              0.5555555555555556,
              "#d8576b"
             ],
             [
              0.6666666666666666,
              "#ed7953"
             ],
             [
              0.7777777777777778,
              "#fb9f3a"
             ],
             [
              0.8888888888888888,
              "#fdca26"
             ],
             [
              1,
              "#f0f921"
             ]
            ],
            "type": "contour"
           }
          ],
          "contourcarpet": [
           {
            "colorbar": {
             "outlinewidth": 0,
             "ticks": ""
            },
            "type": "contourcarpet"
           }
          ],
          "heatmap": [
           {
            "colorbar": {
             "outlinewidth": 0,
             "ticks": ""
            },
            "colorscale": [
             [
              0,
              "#0d0887"
             ],
             [
              0.1111111111111111,
              "#46039f"
             ],
             [
              0.2222222222222222,
              "#7201a8"
             ],
             [
              0.3333333333333333,
              "#9c179e"
             ],
             [
              0.4444444444444444,
              "#bd3786"
             ],
             [
              0.5555555555555556,
              "#d8576b"
             ],
             [
              0.6666666666666666,
              "#ed7953"
             ],
             [
              0.7777777777777778,
              "#fb9f3a"
             ],
             [
              0.8888888888888888,
              "#fdca26"
             ],
             [
              1,
              "#f0f921"
             ]
            ],
            "type": "heatmap"
           }
          ],
          "heatmapgl": [
           {
            "colorbar": {
             "outlinewidth": 0,
             "ticks": ""
            },
            "colorscale": [
             [
              0,
              "#0d0887"
             ],
             [
              0.1111111111111111,
              "#46039f"
             ],
             [
              0.2222222222222222,
              "#7201a8"
             ],
             [
              0.3333333333333333,
              "#9c179e"
             ],
             [
              0.4444444444444444,
              "#bd3786"
             ],
             [
              0.5555555555555556,
              "#d8576b"
             ],
             [
              0.6666666666666666,
              "#ed7953"
             ],
             [
              0.7777777777777778,
              "#fb9f3a"
             ],
             [
              0.8888888888888888,
              "#fdca26"
             ],
             [
              1,
              "#f0f921"
             ]
            ],
            "type": "heatmapgl"
           }
          ],
          "histogram": [
           {
            "marker": {
             "pattern": {
              "fillmode": "overlay",
              "size": 10,
              "solidity": 0.2
             }
            },
            "type": "histogram"
           }
          ],
          "histogram2d": [
           {
            "colorbar": {
             "outlinewidth": 0,
             "ticks": ""
            },
            "colorscale": [
             [
              0,
              "#0d0887"
             ],
             [
              0.1111111111111111,
              "#46039f"
             ],
             [
              0.2222222222222222,
              "#7201a8"
             ],
             [
              0.3333333333333333,
              "#9c179e"
             ],
             [
              0.4444444444444444,
              "#bd3786"
             ],
             [
              0.5555555555555556,
              "#d8576b"
             ],
             [
              0.6666666666666666,
              "#ed7953"
             ],
             [
              0.7777777777777778,
              "#fb9f3a"
             ],
             [
              0.8888888888888888,
              "#fdca26"
             ],
             [
              1,
              "#f0f921"
             ]
            ],
            "type": "histogram2d"
           }
          ],
          "histogram2dcontour": [
           {
            "colorbar": {
             "outlinewidth": 0,
             "ticks": ""
            },
            "colorscale": [
             [
              0,
              "#0d0887"
             ],
             [
              0.1111111111111111,
              "#46039f"
             ],
             [
              0.2222222222222222,
              "#7201a8"
             ],
             [
              0.3333333333333333,
              "#9c179e"
             ],
             [
              0.4444444444444444,
              "#bd3786"
             ],
             [
              0.5555555555555556,
              "#d8576b"
             ],
             [
              0.6666666666666666,
              "#ed7953"
             ],
             [
              0.7777777777777778,
              "#fb9f3a"
             ],
             [
              0.8888888888888888,
              "#fdca26"
             ],
             [
              1,
              "#f0f921"
             ]
            ],
            "type": "histogram2dcontour"
           }
          ],
          "mesh3d": [
           {
            "colorbar": {
             "outlinewidth": 0,
             "ticks": ""
            },
            "type": "mesh3d"
           }
          ],
          "parcoords": [
           {
            "line": {
             "colorbar": {
              "outlinewidth": 0,
              "ticks": ""
             }
            },
            "type": "parcoords"
           }
          ],
          "pie": [
           {
            "automargin": true,
            "type": "pie"
           }
          ],
          "scatter": [
           {
            "fillpattern": {
             "fillmode": "overlay",
             "size": 10,
             "solidity": 0.2
            },
            "type": "scatter"
           }
          ],
          "scatter3d": [
           {
            "line": {
             "colorbar": {
              "outlinewidth": 0,
              "ticks": ""
             }
            },
            "marker": {
             "colorbar": {
              "outlinewidth": 0,
              "ticks": ""
             }
            },
            "type": "scatter3d"
           }
          ],
          "scattercarpet": [
           {
            "marker": {
             "colorbar": {
              "outlinewidth": 0,
              "ticks": ""
             }
            },
            "type": "scattercarpet"
           }
          ],
          "scattergeo": [
           {
            "marker": {
             "colorbar": {
              "outlinewidth": 0,
              "ticks": ""
             }
            },
            "type": "scattergeo"
           }
          ],
          "scattergl": [
           {
            "marker": {
             "colorbar": {
              "outlinewidth": 0,
              "ticks": ""
             }
            },
            "type": "scattergl"
           }
          ],
          "scattermapbox": [
           {
            "marker": {
             "colorbar": {
              "outlinewidth": 0,
              "ticks": ""
             }
            },
            "type": "scattermapbox"
           }
          ],
          "scatterpolar": [
           {
            "marker": {
             "colorbar": {
              "outlinewidth": 0,
              "ticks": ""
             }
            },
            "type": "scatterpolar"
           }
          ],
          "scatterpolargl": [
           {
            "marker": {
             "colorbar": {
              "outlinewidth": 0,
              "ticks": ""
             }
            },
            "type": "scatterpolargl"
           }
          ],
          "scatterternary": [
           {
            "marker": {
             "colorbar": {
              "outlinewidth": 0,
              "ticks": ""
             }
            },
            "type": "scatterternary"
           }
          ],
          "surface": [
           {
            "colorbar": {
             "outlinewidth": 0,
             "ticks": ""
            },
            "colorscale": [
             [
              0,
              "#0d0887"
             ],
             [
              0.1111111111111111,
              "#46039f"
             ],
             [
              0.2222222222222222,
              "#7201a8"
             ],
             [
              0.3333333333333333,
              "#9c179e"
             ],
             [
              0.4444444444444444,
              "#bd3786"
             ],
             [
              0.5555555555555556,
              "#d8576b"
             ],
             [
              0.6666666666666666,
              "#ed7953"
             ],
             [
              0.7777777777777778,
              "#fb9f3a"
             ],
             [
              0.8888888888888888,
              "#fdca26"
             ],
             [
              1,
              "#f0f921"
             ]
            ],
            "type": "surface"
           }
          ],
          "table": [
           {
            "cells": {
             "fill": {
              "color": "#EBF0F8"
             },
             "line": {
              "color": "white"
             }
            },
            "header": {
             "fill": {
              "color": "#C8D4E3"
             },
             "line": {
              "color": "white"
             }
            },
            "type": "table"
           }
          ]
         },
         "layout": {
          "annotationdefaults": {
           "arrowcolor": "#2a3f5f",
           "arrowhead": 0,
           "arrowwidth": 1
          },
          "autotypenumbers": "strict",
          "coloraxis": {
           "colorbar": {
            "outlinewidth": 0,
            "ticks": ""
           }
          },
          "colorscale": {
           "diverging": [
            [
             0,
             "#8e0152"
            ],
            [
             0.1,
             "#c51b7d"
            ],
            [
             0.2,
             "#de77ae"
            ],
            [
             0.3,
             "#f1b6da"
            ],
            [
             0.4,
             "#fde0ef"
            ],
            [
             0.5,
             "#f7f7f7"
            ],
            [
             0.6,
             "#e6f5d0"
            ],
            [
             0.7,
             "#b8e186"
            ],
            [
             0.8,
             "#7fbc41"
            ],
            [
             0.9,
             "#4d9221"
            ],
            [
             1,
             "#276419"
            ]
           ],
           "sequential": [
            [
             0,
             "#0d0887"
            ],
            [
             0.1111111111111111,
             "#46039f"
            ],
            [
             0.2222222222222222,
             "#7201a8"
            ],
            [
             0.3333333333333333,
             "#9c179e"
            ],
            [
             0.4444444444444444,
             "#bd3786"
            ],
            [
             0.5555555555555556,
             "#d8576b"
            ],
            [
             0.6666666666666666,
             "#ed7953"
            ],
            [
             0.7777777777777778,
             "#fb9f3a"
            ],
            [
             0.8888888888888888,
             "#fdca26"
            ],
            [
             1,
             "#f0f921"
            ]
           ],
           "sequentialminus": [
            [
             0,
             "#0d0887"
            ],
            [
             0.1111111111111111,
             "#46039f"
            ],
            [
             0.2222222222222222,
             "#7201a8"
            ],
            [
             0.3333333333333333,
             "#9c179e"
            ],
            [
             0.4444444444444444,
             "#bd3786"
            ],
            [
             0.5555555555555556,
             "#d8576b"
            ],
            [
             0.6666666666666666,
             "#ed7953"
            ],
            [
             0.7777777777777778,
             "#fb9f3a"
            ],
            [
             0.8888888888888888,
             "#fdca26"
            ],
            [
             1,
             "#f0f921"
            ]
           ]
          },
          "colorway": [
           "#636efa",
           "#EF553B",
           "#00cc96",
           "#ab63fa",
           "#FFA15A",
           "#19d3f3",
           "#FF6692",
           "#B6E880",
           "#FF97FF",
           "#FECB52"
          ],
          "font": {
           "color": "#2a3f5f"
          },
          "geo": {
           "bgcolor": "white",
           "lakecolor": "white",
           "landcolor": "#E5ECF6",
           "showlakes": true,
           "showland": true,
           "subunitcolor": "white"
          },
          "hoverlabel": {
           "align": "left"
          },
          "hovermode": "closest",
          "mapbox": {
           "style": "light"
          },
          "paper_bgcolor": "white",
          "plot_bgcolor": "#E5ECF6",
          "polar": {
           "angularaxis": {
            "gridcolor": "white",
            "linecolor": "white",
            "ticks": ""
           },
           "bgcolor": "#E5ECF6",
           "radialaxis": {
            "gridcolor": "white",
            "linecolor": "white",
            "ticks": ""
           }
          },
          "scene": {
           "xaxis": {
            "backgroundcolor": "#E5ECF6",
            "gridcolor": "white",
            "gridwidth": 2,
            "linecolor": "white",
            "showbackground": true,
            "ticks": "",
            "zerolinecolor": "white"
           },
           "yaxis": {
            "backgroundcolor": "#E5ECF6",
            "gridcolor": "white",
            "gridwidth": 2,
            "linecolor": "white",
            "showbackground": true,
            "ticks": "",
            "zerolinecolor": "white"
           },
           "zaxis": {
            "backgroundcolor": "#E5ECF6",
            "gridcolor": "white",
            "gridwidth": 2,
            "linecolor": "white",
            "showbackground": true,
            "ticks": "",
            "zerolinecolor": "white"
           }
          },
          "shapedefaults": {
           "line": {
            "color": "#2a3f5f"
           }
          },
          "ternary": {
           "aaxis": {
            "gridcolor": "white",
            "linecolor": "white",
            "ticks": ""
           },
           "baxis": {
            "gridcolor": "white",
            "linecolor": "white",
            "ticks": ""
           },
           "bgcolor": "#E5ECF6",
           "caxis": {
            "gridcolor": "white",
            "linecolor": "white",
            "ticks": ""
           }
          },
          "title": {
           "x": 0.05
          },
          "xaxis": {
           "automargin": true,
           "gridcolor": "white",
           "linecolor": "white",
           "ticks": "",
           "title": {
            "standoff": 15
           },
           "zerolinecolor": "white",
           "zerolinewidth": 2
          },
          "yaxis": {
           "automargin": true,
           "gridcolor": "white",
           "linecolor": "white",
           "ticks": "",
           "title": {
            "standoff": 15
           },
           "zerolinecolor": "white",
           "zerolinewidth": 2
          }
         }
        },
        "title": {
         "text": "CPFSK"
        },
        "xaxis": {
         "title": {
          "text": "tempo(s)"
         }
        },
        "yaxis": {
         "title": {
          "text": "\theta (t)"
         }
        }
       }
      }
     },
     "metadata": {},
     "output_type": "display_data"
    }
   ],
   "source": [
    "plot_cpfsk = cpfsk()"
   ]
  },
  {
   "cell_type": "markdown",
   "metadata": {},
   "source": []
  },
  {
   "cell_type": "code",
   "execution_count": 15,
   "metadata": {},
   "outputs": [],
   "source": [
    "from src.passband_modulations  import bpsk_mod,qpsk_mod,msk_mod \n",
    "from src.essentials import plotWelchPSD \n",
    "def bpsk_qpsk_msk_psd(): \n",
    "   \n",
    "    N =100000 # Number of symbols to transmit \n",
    "    fc=800\n",
    "    OF =8 \n",
    "    # carrier frequency and oversamping factor \n",
    "    fs = fc*OF\n",
    "    # sampling frequency \n",
    "\n",
    "\n",
    "    a = np.random.randint(2, size=N) # uniform random symbols from 0's and 1's \n",
    "    (s_bb,t) = bpsk_mod(a,OF) # BPSK modulation(waveform) - baseband \n",
    "    s_bpsk = s_bb*np.cos(2*np.pi*fc*t/fs) # BPSK with carrier \n",
    "    s_qpsk = qpsk_mod(a,fc,OF)['s(t)'] # conventional QPSK \n",
    "    s_msk = msk_mod(a,fc,OF)['s(t)']# MSK signal\n",
    "    \n",
    "    #  Compute and plot PSDs for each of the modulated versions \n",
    "    fig, ax = plt.subplots(1, 1) \n",
    "    plotWelchPSD(s_bpsk,fs,fc,ax = ax,color = 'b',label='BPSK') \n",
    "    plotWelchPSD(s_qpsk,fs,fc,ax = ax,color = 'r',label='QPSK') \n",
    "    plotWelchPSD(s_msk,fs,fc, ax = ax,color = 'k',label='MSK') \n",
    "    ax.set_xlabel('$f-f_c$')\n",
    "    ax.set_ylabel('PSD (dB/Hz)')\n",
    "    ax.legend()\n",
    "    ax.grid()\n",
    "    plt.show()\n",
    "\n"
   ]
  },
  {
   "cell_type": "code",
   "execution_count": 16,
   "metadata": {},
   "outputs": [
    {
     "name": "stderr",
     "output_type": "stream",
     "text": [
      "No artists with labels found to put in legend.  Note that artists whose label start with an underscore are ignored when legend() is called with no argument.\n"
     ]
    },
    {
     "data": {
      "image/png": "[encoded data removed]",
      "text/plain": [
       "<Figure size 432x288 with 1 Axes>"
      ]
     },
     "metadata": {
      "needs_background": "light"
     },
     "output_type": "display_data"
    }
   ],
   "source": [
    "espectro = bpsk_qpsk_msk_psd()"
   ]
  },
  {
   "cell_type": "code",
   "execution_count": null,
   "metadata": {},
   "outputs": [],
   "source": []
  }
 ],
 "metadata": {
  "kernelspec": {
   "display_name": "Python 3.9.12 ('unb')",
   "language": "python",
   "name": "python3"
  },
  "language_info": {
   "codemirror_mode": {
    "name": "ipython",
    "version": 3
   },
   "file_extension": ".py",
   "mimetype": "text/x-python",
   "name": "python",
   "nbconvert_exporter": "python",
   "pygments_lexer": "ipython3",
   "version": "3.9.12"
  },
  "vscode": {
   "interpreter": {
    "hash": "9630fc77398032981978f73df441ebb4d15f3f3030f3913be2df7d5804cb23bb"
   }
  }
 },
 "nbformat": 4,
 "nbformat_minor": 2
}
