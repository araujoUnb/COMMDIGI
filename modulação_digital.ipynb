{
 "cells": [
  {
   "cell_type": "markdown",
   "metadata": {},
   "source": [
    "<img src=\"Figs/fga.png\" alt=\"isolated\"/>"
   ]
  },
  {
   "cell_type": "code",
   "execution_count": 1,
   "metadata": {},
   "outputs": [],
   "source": [
    "import numpy as np\n",
    "import matplotlib.pyplot as plt"
   ]
  },
  {
   "cell_type": "code",
   "execution_count": 2,
   "metadata": {},
   "outputs": [],
   "source": [
    "def rect_pulse(A,fs,T): \n",
    "    r\"\"\" Generate isolated rectangular pulse with the following parameters\n",
    "    Parameters: \n",
    "    A : amplitude of the rectangular pulse \n",
    "    fs : sampling frequency in Hz \n",
    "    T : duration of the pulse in seconds \n",
    "    Returns: (t,g) : \n",
    "    time base (t) and the signal g(t) as tuple \n",
    "    Example:\n",
    "     A = 1;\n",
    "     fs=500;T = 0.2; \n",
    "     (t,g) = rect_pulse(A,fs,T) \"\"\" \n",
    "    \n",
    "    t = np.arange(-0.5,0.5,1/fs) # time base \n",
    "    rect = (t >-T/2) * (t<T/2) + 0.5*(t==T/2) + 0.5*(t==-T/2)\n",
    "    g = A*rect \n",
    "    return (t,g)"
   ]
  },
  {
   "cell_type": "markdown",
   "metadata": {},
   "source": [
    "<h1 style=\"text-align: center;\"> Modulações Digitais </h1>\n",
    "\n",
    "<h3 style=\"text-align: center;\">Disciplina: Comunicações Digitais para Engenaharia</h3>\n",
    "\n",
    "\n",
    "<p style=\"text-align: center;\">Prof. Daniel C. Araújo</p>"
   ]
  },
  {
   "cell_type": "markdown",
   "metadata": {},
   "source": [
    "## Conteúdo\n",
    "\n",
    "1. [Introdução](#Intro)\n",
    "2. [Modulações sem Memória](#mod_sem_mem)"
   ]
  },
  {
   "cell_type": "markdown",
   "metadata": {},
   "source": [
    " # Introdução  <a name =\"intro\"></a>\n",
    "\n"
   ]
  },
  {
   "cell_type": "markdown",
   "metadata": {},
   "source": [
    "## Representação de sinais digitais\n",
    "\n",
    "* Modulação sem memória\n",
    "    * Conjunto de k bits são mapeados para um símbolo\n",
    "\n",
    "* Modulação com memória\n",
    "    * Conjunto de k bits e os anteriores $(L-1)k$ bits.\n",
    "    * A saída depende das sequências anteriores e a atual\n",
    "\n",
    "<img src=\"Figs/mod_digi/digi_mod.png\" alt=\"isolated\" />\n"
   ]
  },
  {
   "cell_type": "markdown",
   "metadata": {},
   "source": [
    "## Transmissão de Bits\n",
    "\n",
    "* Tempo de Símbolo e Tempo de bit\n",
    "\n",
    "$$\n",
    "T_b = \\frac{T_s}{k} = \\frac{T_s}{\\log_2M}\n",
    "$$\n",
    "\n",
    "* Taxa de bits e taxa de símbolo\n",
    "\n",
    "$$\n",
    "R_b = kR_s = R_s \\log_2M\n",
    "$$\n",
    "\n",
    "* Energia do sinal e Energia de bits\n",
    "\n",
    "$$\n",
    "E_{avg} = \\sum _{m=1}^{M} p_m E_m \n",
    "$$\n",
    "em que, $p_m$ são as probabilidades dos símbolos\n",
    "\n",
    "Se os bits são equiprováveis então:\n",
    "\n",
    "$$\n",
    "E_{b} = \\frac{E_{avg}}{\\log_2M}  \n",
    "$$"
   ]
  },
  {
   "cell_type": "code",
   "execution_count": 10,
   "metadata": {},
   "outputs": [
    {
     "data": {
      "image/png": "[encoded data removed]",
      "text/plain": [
       "<Figure size 640x480 with 1 Axes>"
      ]
     },
     "metadata": {},
     "output_type": "display_data"
    },
    {
     "name": "stdout",
     "output_type": "stream",
     "text": [
      "Tempo de bit 0.2 s\n",
      "Taxa de bits 5.0 Hz\n"
     ]
    }
   ],
   "source": [
    "A = 1\n",
    "fs=500\n",
    "Tb = 0.2 \n",
    "(t,g) = rect_pulse(A,fs,Tb) \n",
    "\n",
    "plt.plot(t,g)\n",
    "plt.xlabel(\"tempo (s)\")\n",
    "plt.ylabel(\"Amplitude\")\n",
    "plt.grid()\n",
    "plt.show()\n",
    "\n",
    "print(\"Tempo de bit\", Tb, \"s\")\n",
    "print(\"Taxa de bits\", 1/Tb, \"Hz\")"
   ]
  },
  {
   "cell_type": "markdown",
   "metadata": {},
   "source": [
    "# Modulações sem Memória  <a name=\"mod_sem_mem\"></a>"
   ]
  },
  {
   "cell_type": "markdown",
   "metadata": {},
   "source": [
    "## Modulação PAM\n",
    "\n",
    "> Definição: Pulse Modulation Amplitude (PAM/ASK)\n",
    "\n",
    "* forma de onda\n",
    "\n",
    "   $$\n",
    "    s_m(t) = A_m p(t), \\,\\  0 \\leq m \\leq M - 1\n",
    "   $$\n",
    "\n",
    "* Amplitudes \n",
    "\n",
    "  $$\n",
    "  A_m = 2m + 1 - M \n",
    "  $$"
   ]
  },
  {
   "cell_type": "code",
   "execution_count": 5,
   "metadata": {},
   "outputs": [
    {
     "data": {
      "image/png": "[encoded data removed]",
      "text/plain": [
       "<Figure size 432x288 with 1 Axes>"
      ]
     },
     "metadata": {
      "needs_background": "light"
     },
     "output_type": "display_data"
    },
    {
     "name": "stdout",
     "output_type": "stream",
     "text": [
      "Tempo de bit 0.2 s\n",
      "Taxa de bits 5.0 Hz\n"
     ]
    }
   ],
   "source": [
    "def mod_pam(integer, M,fs,Tb):\n",
    "\n",
    "    A_m = 2*integer  - M + 1\n",
    "\n",
    "    return rect_pulse(A_m,fs,Tb)\n",
    "\n",
    "A = 1\n",
    "fs=500\n",
    "Tb = 0.2 \n",
    "M = 4\n",
    "integer = 1    # integer < M\n",
    "(t,g) = mod_pam(integer, M,fs,Tb) \n",
    "\n",
    "plt.plot(t,g)\n",
    "plt.xlabel(\"tempo (s)\")\n",
    "plt.ylabel(\"Amplitude\")\n",
    "plt.grid()\n",
    "plt.show()\n",
    "\n",
    "print(\"Tempo de bit\", Tb, \"s\")\n",
    "print(\"Taxa de bits\", 1/Tb, \"Hz\")"
   ]
  },
  {
   "cell_type": "markdown",
   "metadata": {},
   "source": [
    "## Energia do símbolo\n",
    "\n",
    "$$\n",
    "\\begin{align*}\n",
    "    E_s   & = \\int _{-\\infty}^{\\infty} |s_m(t)|^2 dt \\\\\n",
    "         & = \\int _{-\\infty}^{\\infty} A^2_m p(t)^2 dt \\\\\n",
    "         &  = A^2_m E_p \n",
    "\\end{align*}\n",
    "$$"
   ]
  },
  {
   "cell_type": "markdown",
   "metadata": {},
   "source": [
    "## Energia média da constelação\n",
    "$$\n",
    "\\begin{align*}\n",
    "    E_{avg}   & = \\frac{E_p}{M} \\sum _{m=1}^{M}A^2_m \\\\\n",
    "              & = \\frac{2E_p}{M} \\left(1 + 3^2 + \\ldots + (M-1)^2 \\right) \\\\\n",
    "              & = \\frac{2E_p}{M} \\frac{M(M^2-1)}{6} \\\\\n",
    "              & = \\frac{E_p(M^2-1)}{3}\n",
    "\\end{align*}  \n",
    "$$\n",
    "Portanto a energia média de bits\n",
    "\n",
    "$$\n",
    "E_{b} = \\frac{E_{avg}}{\\log_2M}  = \\frac{E_p(M^2-1)}{3\\log_2M}\n",
    "$$"
   ]
  },
  {
   "cell_type": "markdown",
   "metadata": {},
   "source": [
    "## Representação em Banda Básica e Banda Passante\n",
    "\n",
    "Assumindo que a representação de banda-básica seja \n",
    "\n",
    "$$\n",
    "s_{ml} = A_m p(t)\n",
    "$$\n",
    "em que $p(t)$ é real\n",
    "\n",
    "então sua representação de banda-passante é\n",
    "\n",
    "$$\n",
    "\\begin{align*}\n",
    "s_m(t) &= A_m p(t) \\cos (2\\pi f_c t) \\\\\n",
    "       &= A_m g(t)\n",
    "\\end{align*}  \n",
    "$$\n",
    "\n",
    "* A energia média de banda-passante será metade da energia de banda-básica:\n",
    "\n",
    "$$\n",
    "E_{b} = \\frac{E_p(M^2-1)}{6\\log_2M}\n",
    "$$"
   ]
  },
  {
   "cell_type": "markdown",
   "metadata": {},
   "source": [
    "## Símbolo PAM\n",
    "\n",
    "* A representação de banda-básica pode ser reescrita como\n",
    "\n",
    "$$\n",
    "s_ml(t) =  A_m \\sqrt{E_p} \\phi(t),\n",
    "$$\n",
    "em que $\\phi (t) = \\frac{p(t)}{\\sqrt{E_p}}$.\n",
    "\n",
    "* Símbolos PAM\n",
    "\n",
    " $$\n",
    " s_m  =  A_m \\sqrt{E_p} , \\,\\ A_m =\\{\\pm 1, \\pm 3, \\ldots , \\pm (M - 1)\\}\n",
    " $$\n",
    "\n"
   ]
  },
  {
   "cell_type": "code",
   "execution_count": 52,
   "metadata": {},
   "outputs": [
    {
     "data": {
      "image/png": "[encoded data removed]",
      "text/plain": [
       "<Figure size 640x480 with 1 Axes>"
      ]
     },
     "metadata": {},
     "output_type": "display_data"
    }
   ],
   "source": [
    "M = 2   # Ordem da modulação\n",
    "m = np.arange(0,M)\n",
    "Ep = 4\n",
    "\n",
    "smr = (2*m - M + 1) * np.sqrt(Ep)\n",
    "smi = np.zeros(len(smr))\n",
    "\n",
    "plt.plot(smr,smi,'o')\n",
    "plt.xlabel('Componente em fase')\n",
    "plt.ylabel('Componente em quadratura')\n",
    "plt.xlim([np.min(smr) - np.sqrt(Ep),np.max(smr) + np.sqrt(Ep)])\n",
    "plt.grid()\n",
    "plt.show()"
   ]
  },
  {
   "cell_type": "markdown",
   "metadata": {},
   "source": [
    "## Distância Entre Símbolos da Modulação AM\n",
    "\n",
    "* Considere a distância euclidiana entre dois pontos \n",
    "\n",
    "$$\n",
    "\\begin{align*}\n",
    "d_{nm} & = \\sqrt{|s_m - s_n|^2} \\\\\n",
    "& = |A_m - A_n|\\sqrt{E_p} \\\\\n",
    "\\end{align*}\n",
    "$$\n",
    "\n",
    "Portanto a distância mínima entre dois símbolos será:\n",
    "\n",
    "$$\n",
    "\\begin{align*}\n",
    "d_{min} & = 2\\sqrt{E_p} \\\\\n",
    "& = \\sqrt{2E_g} \\\\ \n",
    "& = \\sqrt{\\frac{12\\log_2M}{M^2-1}E_b} \n",
    "\\end{align*}\n",
    "$$"
   ]
  },
  {
   "cell_type": "markdown",
   "metadata": {},
   "source": [
    "## Exercício\n",
    "\n",
    "* Programar um modulador M-PAM \n",
    "    * Obter a scatterplot na saída do modulador\n",
    "    * Sinal de banda-básica\n",
    "        * Considere o pulso retangular\n",
    "    * Sinal de banda–passante\n"
   ]
  },
  {
   "cell_type": "markdown",
   "metadata": {},
   "source": []
  }
 ],
 "metadata": {
  "kernelspec": {
   "display_name": "Python 3 (ipykernel)",
   "language": "python",
   "name": "python3"
  },
  "language_info": {
   "codemirror_mode": {
    "name": "ipython",
    "version": 3
   },
   "file_extension": ".py",
   "mimetype": "text/x-python",
   "name": "python",
   "nbconvert_exporter": "python",
   "pygments_lexer": "ipython3",
   "version": "3.9.12"
  },
  "vscode": {
   "interpreter": {
    "hash": "6cc067f204f9f40a6836d210e1936e04746395c280deb9e30a1a8ed680927509"
   }
  }
 },
 "nbformat": 4,
 "nbformat_minor": 2
}
