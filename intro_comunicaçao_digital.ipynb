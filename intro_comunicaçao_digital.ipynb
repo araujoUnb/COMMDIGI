{
 "cells": [
  {
   "cell_type": "code",
   "execution_count": 1,
   "metadata": {},
   "outputs": [],
   "source": [
    "import numpy as np"
   ]
  },
  {
   "cell_type": "markdown",
   "metadata": {},
   "source": [
    "<img src=\"Figs/fga.png\" alt=\"isolated\"/>"
   ]
  },
  {
   "cell_type": "markdown",
   "metadata": {},
   "source": [
    "\n",
    "<h1 style=\"text-align: center;\">Introdução à Comunicações Digitais</h1>\n",
    "\n",
    "<h3 style=\"text-align: center;\">Disciplina: Comunicações Digitais para Engenaharia</h3>\n",
    "\n",
    "\n",
    "<p style=\"text-align: center;\">Prof. Daniel C. Araújo</p>"
   ]
  },
  {
   "cell_type": "markdown",
   "metadata": {},
   "source": [
    "## Conteúdo\n",
    "\n",
    "1. [Elementos básicos de um sistema de comunicação digital](#elementos_basicos)\n",
    "2. [O que será estudado na disciplina?](#ementa)\n",
    "3. [Avaliações](#avaliação)\n",
    "4. [Referências](#referencia)"
   ]
  },
  {
   "cell_type": "markdown",
   "metadata": {},
   "source": [
    "<h1 style=\"text-align: center;\"> Elementos básicos de um sistema de comunicação digital</h1> <a name=\"elementos_basicos\"></a>"
   ]
  },
  {
   "cell_type": "markdown",
   "metadata": {},
   "source": [
    "## Representação de um sistema digital\n",
    "\n",
    " - Elementos de um transmissor\n",
    "    1. Fonte de informação -> sequência de bits para transmitir\n",
    "    2. Encoder             -> remoção de redundancia ou compressão da informação\n",
    "    3. Codificador de canal-> inserção de redundância para aumento da robustez\n",
    "    4. Modulador digital   -> Conversão da informação em sinal elétrico\n",
    "\n",
    " - Canal de comunicação\n",
    "    - Distorção da informação\n",
    "    - Exemplos: \n",
    "        - Canal cabeado\n",
    "        - Fibra\n",
    "        - Canal sem-fio\n",
    "\n",
    " - Receptor\n",
    "\n",
    "    1. Demodulador  -> Conversão do sinal elétrico para informação\n",
    "    2. Decodificador de canal\n",
    "    3. Decodificador de fonte\n",
    "    4. Informação recebida   \n",
    "    \n",
    "\n",
    "    \n",
    "![diagrama_de_bloco](Figs\\intro\\sistemas_digitais.png \"Cadeia de transmissão de um sistema digital\")\n",
    "\n",
    "\n",
    "\n"
   ]
  },
  {
   "cell_type": "markdown",
   "metadata": {},
   "source": [
    "## Exemplos de sistemas de communicações digitais modernos : WiFi\n",
    "\n",
    "<table class=\"wikitable floatright\">\n",
    "<caption><a href=\"/wiki/IEEE_802.11\" title=\"IEEE 802.11\">Versões do Wi-Fi</a>\n",
    "</caption>\n",
    "<tbody><tr>\n",
    "<th>Versões\n",
    "</th>\n",
    "<th>IEEE<br />Standard\n",
    "</th>\n",
    "<th>Taxa<br />Máxima<br />(Mbit/s)\n",
    "</th>\n",
    "<th>Data\n",
    "</th>\n",
    "<th>Frequência<br /> Operação <br />(GHz)<sup id=\"cite_ref-only5ghz-2_41-0\" class=\"reference\"><a href=\"#cite_note-only5ghz-2-41\">&#91;40&#93;</a></sup>\n",
    "</th></tr>\n",
    "<tr>\n",
    "<th>Wi‑Fi&#160;7\n",
    "</th>\n",
    "<td><a href=\"/wiki/IEEE_802.11be\" title=\"IEEE 802.11be\">802.11be</a>\n",
    "</td>\n",
    "<td align=\"right\">40000\n",
    "</td>\n",
    "<td align=\"center\" data-sort-value=\"\" style=\"background: #DDF; vertical-align: middle; text-align: center;\" class=\"no table-no2\"><abbr title=\"To be announced\">TBA</abbr>\n",
    "</td>\n",
    "<td align=\"right\">2.4/5/6\n",
    "</td></tr>\n",
    "<tr>\n",
    "<th>Wi‑Fi&#160;6E\n",
    "</th>\n",
    "<td rowspan=\"2\"><a href=\"/wiki/Wi-Fi_6\" title=\"Wi-Fi 6\">802.11ax</a>\n",
    "</td>\n",
    "<td rowspan=\"2\" align=\"right\">600 to 9608\n",
    "</td>\n",
    "<td align=\"center\">2020\n",
    "</td>\n",
    "<td align=\"right\">2.4/5/6\n",
    "</td></tr>\n",
    "<tr>\n",
    "<th>Wi‑Fi&#160;6\n",
    "</th>\n",
    "<td align=\"center\">2019\n",
    "</td>\n",
    "<td align=\"right\">2.4/5\n",
    "</td></tr>\n",
    "<tr>\n",
    "<th>Wi‑Fi&#160;5\n",
    "</th>\n",
    "<td><a href=\"/wiki/IEEE_802.11ac-2013\" title=\"IEEE 802.11ac-2013\">802.11ac</a>\n",
    "</td>\n",
    "<td align=\"right\">433 to 6933\n",
    "</td>\n",
    "<td align=\"center\">2014\n",
    "</td>\n",
    "<td align=\"right\">5\n",
    "</td></tr>\n",
    "<tr>\n",
    "<th>Wi‑Fi&#160;4\n",
    "</th>\n",
    "<td><a href=\"/wiki/IEEE_802.11n-2009\" title=\"IEEE 802.11n-2009\">802.11n</a>\n",
    "</td>\n",
    "<td align=\"right\">72 to 600\n",
    "</td>\n",
    "<td align=\"center\">2008\n",
    "</td>\n",
    "<td align=\"right\">2.4/5\n",
    "</td></tr>\n",
    "<tr>\n",
    "<th><i>(Wi-Fi&#160;3*)</i>\n",
    "</th>\n",
    "<td><a href=\"/wiki/IEEE_802.11g-2003\" title=\"IEEE 802.11g-2003\">802.11g</a>\n",
    "</td>\n",
    "<td align=\"right\">6 to 54\n",
    "</td>\n",
    "<td align=\"center\">2003\n",
    "</td>\n",
    "<td align=\"right\">2.4\n",
    "</td></tr>\n",
    "<tr>\n",
    "<th><i>(Wi-Fi&#160;2*)</i>\n",
    "</th>\n",
    "<td><a href=\"/wiki/IEEE_802.11a-1999\" title=\"IEEE 802.11a-1999\">802.11a</a>\n",
    "</td>\n",
    "<td align=\"right\">6 to 54\n",
    "</td>\n",
    "<td align=\"center\">1999\n",
    "</td>\n",
    "<td align=\"right\">5\n",
    "</td></tr>\n",
    "<tr>\n",
    "<th><i>(Wi-Fi&#160;1*)</i>\n",
    "</th>\n",
    "<td><a href=\"/wiki/IEEE_802.11b-1999\" title=\"IEEE 802.11b-1999\">802.11b</a>\n",
    "</td>\n",
    "<td align=\"right\">1 to 11\n",
    "</td>\n",
    "<td align=\"center\">1999\n",
    "</td>\n",
    "<td align=\"right\">2.4\n",
    "</td></tr>\n",
    "<tr>\n",
    "<th><i>(Wi-Fi&#160;0*</i>)\n",
    "</th>\n",
    "<td><a href=\"/wiki/IEEE_802.11_(legacy_mode)\" title=\"IEEE 802.11 (legacy mode)\">802.11</a>\n",
    "</td>\n",
    "<td align=\"right\">1 to 2\n",
    "</td>\n",
    "<td align=\"center\">1997\n",
    "</td>\n",
    "<td align=\"right\">2.4\n",
    "</td></tr>\n",
    "<tr>\n",
    "<td colspan=\"5\">*: (Wi-Fi 0, 1, 2, 3, são nomenclatura não comumente usadas)\n",
    "</td></tr></tbody></table>\n",
    "\n"
   ]
  },
  {
   "cell_type": "markdown",
   "metadata": {},
   "source": [
    "<img title=\"WiFi\" alt=\"Logo\" src=\"https://upload.wikimedia.org/wikipedia/commons/thumb/b/ba/Wi-fi_alliance_logo.png/330px-Wi-fi_alliance_logo.png\">"
   ]
  },
  {
   "cell_type": "markdown",
   "metadata": {},
   "source": [
    "## Tecnologias de telefonia móvel\n",
    "\n",
    "<img title=\"Tecnologias móveis\" alt=\"evolução\" src= \"https://techgator.in/wp-content/uploads/2020/10/evolutions.jpg\">"
   ]
  },
  {
   "cell_type": "markdown",
   "metadata": {},
   "source": [
    "# Bluetooth \n",
    "\n",
    " - Tecnologia própria para curtas distâncias e mais recentemente para aplicações de baixo consumo de potência.\n",
    " - A versão mais recente do bluetooth é a 5.3 de 13 de Julho de 2021.\n",
    "\n",
    " <img tilte=\"Bluetooth\" alt=\"Logo\" src=\"https://upload.wikimedia.org/wikipedia/commons/thumb/f/fc/BluetoothLogo.svg/1920px-BluetoothLogo.svg.png\">"
   ]
  },
  {
   "cell_type": "markdown",
   "metadata": {},
   "source": [
    "<h1 style=\"text-align: center;\"> O que será estudado na disciplina?</h1> <a name = \"ementa\"> </a>"
   ]
  },
  {
   "cell_type": "markdown",
   "metadata": {},
   "source": [
    "## Principais tópicos dessa disciplina\n",
    "\n",
    "- Modulações digitais\n",
    "    - Estudar as principais modulações digitais, desde as mais fundamentais até aquelas utilizadas nos principais sistemas de comunicações digitais modernos\n",
    "    - Exemplos :  \n",
    "        - QAM, QPSK, OFDM\n",
    "\n",
    "- Canais de propagação\n",
    "    - Estudar o comportamento de canais de transmissão e como os mesmo alteram a informação\n",
    "    - Métodos para corrigir os erros de propagação\n",
    "\n",
    "- Simulações\n",
    "    - Nossas avaliações serão projetos que envolverão a simulação das modulações digitais bem como dos canais de transmissão."
   ]
  },
  {
   "cell_type": "markdown",
   "metadata": {},
   "source": [
    "## Ementa da disciplina\n",
    "\n",
    "\n",
    "- Esquemas de modulação digitais \n",
    "\n",
    "  - Representação de Sinais modulados digitalmente \n",
    "  - Modulações digitais sem memória \n",
    "  - Modulações digitais com memória \n",
    "  - Densidade espectral  \n",
    "     \n",
    "- Receptores ótimos para canais AWGN \n",
    "     \n",
    "  - Detector ótimo e probabilidade de erro  \n",
    "  - Detector de máxima verossimilhança para esquema de modulação sem memória \n",
    "  - Receptor ótimo para modulação digital com memória \n",
    "  - Análise de desempenho \n",
    "\n",
    "- Fundamentos de teoria da informação para sistemas de comunicação \n",
    "  - Conceito de entropia e informação \n",
    "  - Códigos de fonte \n",
    "  - Modelos de canais  \n",
    "  - Capacidade de canal \n",
    "\n",
    "- Sistemas multiportadoras e multicanais \n",
    "  \n",
    "  - Modulação OFDM \n",
    "  - Implementação \n",
    "  - Comparação entre sistemas multiportadoras e de única portadora \n",
    "\n",
    "\n",
    "  \n",
    "\n"
   ]
  },
  {
   "cell_type": "markdown",
   "metadata": {},
   "source": [
    "<h1 style=\"text-align: center;\">  Avaliações </h1> <a name=\"avaliação\"></a>\n",
    "\n",
    "Apresentação e entrega de relatório\n",
    "\n",
    "> Projeto I   : Simulação de transmissores e receptores digitais\n",
    "\n",
    "> Projeto II  : Modelos de Canais\n",
    "\n",
    "> Projeto III : Sistemas OFDM\n",
    "\n",
    "Nota final será média dos projetos."
   ]
  },
  {
   "cell_type": "markdown",
   "metadata": {},
   "source": [
    "<h1 style=\"text-align: center;\"> Referências</h1>  <a name=\"referencia\"></a>"
   ]
  },
  {
   "cell_type": "markdown",
   "metadata": {},
   "source": [
    "## Bibliografia\n",
    "\n",
    "1.  J. Proakis, Digital Communications, sér. Electrical engineering series. McGraw-Hill, 2001,\n",
    "isbn: 9780072321111.\n",
    "2.  J. Proakis e M. Salehi, Fundamentals of Communication Systems. Pearson Education, 2013,\n",
    "isbn: 9780133354942.\n",
    "3.  B. Lathi e Z. Ding, Modern Digital and Analog Communication Systems, sér. Oxford Series\n",
    "in Electrical. Oxford University Press, 2009, isbn: 9780195331455.\n",
    "4.  S. Haykin, Digital Communication Systems. Wiley, 2013, isbn: 9780471647355.\n",
    "5.  U. Madhow, Introduction to Communication Systems. Cambridge University Press, 2014,\n",
    "isbn: 9781107022775.\n",
    "6.  T. Cover e J. Thomas, Elements of Information Theory. Wiley, 2012, isbn: 9781118585771.\n",
    "7.  A. Goldsmith e K. (Firm), Wireless Communications, sér. Cambridge Core. Cambridge\n",
    "University Press, 2005, isbn: 9780521837163.\n",
    "8.  G. Strang, Linear Algebra and Its Applications. Cengage Learning India Private Limited,\n",
    "2006, isbn: 9788131501726.\n",
    "\n"
   ]
  },
  {
   "cell_type": "markdown",
   "metadata": {},
   "source": [
    "## Livros para simulação em python\n",
    "\n",
    "\n",
    "9.  M. Viswanathan, Digital modulations using Python, en. 2019, OCLC: 1252132076, isbn:\n",
    "978-1-71232-163-8"
   ]
  },
  {
   "cell_type": "markdown",
   "metadata": {},
   "source": []
  }
 ],
 "metadata": {
  "kernelspec": {
   "display_name": "Python 3 (ipykernel)",
   "language": "python",
   "name": "python3"
  },
  "language_info": {
   "codemirror_mode": {
    "name": "ipython",
    "version": 3
   },
   "file_extension": ".py",
   "mimetype": "text/x-python",
   "name": "python",
   "nbconvert_exporter": "python",
   "pygments_lexer": "ipython3",
   "version": "3.9.12"
  },
  "vscode": {
   "interpreter": {
    "hash": "f11e44294ef36fddc0818d2c44720dbd9001fe6986863e093359c8cb10ee009c"
   }
  }
 },
 "nbformat": 4,
 "nbformat_minor": 2
}
